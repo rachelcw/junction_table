{
 "cells": [
  {
   "cell_type": "code",
   "execution_count": 1,
   "metadata": {},
   "outputs": [],
   "source": [
    "import pandas as pd\n",
    "import numpy as np"
   ]
  },
  {
   "cell_type": "code",
   "execution_count": 2,
   "metadata": {},
   "outputs": [],
   "source": [
    "# # effect size tables # #\n",
    "#FDR - 0.05\n",
    "mcll=pd.read_csv(\"/home/ls/rachelcw/projects/LEAFCUTTER/DS/DS.five_percent/filtered.a4.20230108_effect_sizes.txt\",sep=' ')\n",
    "ucll=pd.read_csv(\"/home/ls/rachelcw/projects/LEAFCUTTER/DS/DS.five_percent/filtered.a6.20230108_effect_sizes.txt\",sep=' ')\n",
    "mucll=pd.read_csv(\"/home/ls/rachelcw/projects/LEAFCUTTER/DS/DS.five_percent/filtered.a2.20230108_effect_sizes.txt\",sep=' ')"
   ]
  },
  {
   "cell_type": "code",
   "execution_count": 3,
   "metadata": {},
   "outputs": [],
   "source": [
    "# # junction column, cll column # #\n",
    "table = pd.merge(mcll[['intron','unmut','mut','deltapsi']],ucll[['intron','unmut','mut','deltapsi']], how='outer')\n",
    "table=pd.merge(table, mucll[['intron','unmut','mut','deltapsi']], how='outer')\n",
    "table['analysis_set'] = None\n",
    "table.loc[table['intron'].isin(mcll['intron']), 'analysis_set'] = 'm'\n",
    "table.loc[table['intron'].isin(ucll['intron']), 'analysis_set'] = 'u'\n",
    "table.loc[table['intron'].isin(mucll['intron']),'analysis_set' ] = 'mu'\n",
    "#table.rename({'intron':'junction'},inplace=True)\n",
    "table[['junction','cluster']]=table['intron'].str.rsplit(':',expand=True,n=1)\n",
    "# table.drop(columns='intron',inplace=True)\n",
    "# table = table.reindex(columns=['junction','analysis_set','cluster'])"
   ]
  },
  {
   "cell_type": "code",
   "execution_count": 4,
   "metadata": {},
   "outputs": [],
   "source": [
    "# # cluster significance # # \n",
    "#FDR - 0.05\n",
    "mcll=pd.read_csv(\"/home/ls/rachelcw/projects/LEAFCUTTER/DS/DS.five_percent/filtered.a4.20230108_cluster_significance.txt\",sep=' ')\n",
    "ucll=pd.read_csv(\"/home/ls/rachelcw/projects/LEAFCUTTER/DS/DS.five_percent/filtered.a6.20230108_cluster_significance.txt\",sep=' ')\n",
    "mucll=pd.read_csv(\"/home/ls/rachelcw/projects/LEAFCUTTER/DS/DS.five_percent/filtered.a2.20230108_cluster_significance.txt\",sep=' ')"
   ]
  },
  {
   "cell_type": "code",
   "execution_count": 5,
   "metadata": {},
   "outputs": [],
   "source": [
    "\n",
    "cluster_table=pd.merge(mcll[['cluster','p.adjust']],ucll[['cluster','p.adjust']],on='cluster',how='outer',suffixes=['_m','_u'])\n",
    "cluster_table=cluster_table.merge(mucll[['cluster','p.adjust']],on='cluster',how='outer',suffixes=['_mu'])\n",
    "cluster_table['cluster']=cluster_table['cluster'].str.rsplit(':',expand=True,n=1)[1]"
   ]
  },
  {
   "cell_type": "code",
   "execution_count": 6,
   "metadata": {},
   "outputs": [],
   "source": [
    "table=table.merge(cluster_table,how='left',on='cluster')"
   ]
  },
  {
   "cell_type": "code",
   "execution_count": 7,
   "metadata": {},
   "outputs": [],
   "source": [
    "# gene name\n",
    "import pyensembl\n",
    "table['gene_name']=pd.NaT\n",
    "# table['identified']=pd.NaT\n",
    "data = pyensembl.Genome(\n",
    "    reference_name='GRCh37',\n",
    "    annotation_name='my_genome_lab',\n",
    "    gtf_path_or_url='/private1/private/resources/gencode19_noChrPrefix_mitoMT.gtf')\n",
    "data.index()\n",
    "for i,j in enumerate(table.junction):\n",
    "    j=j.split(':')\n",
    "    chr=j[0].replace('chr','')\n",
    "    start=int(j[1])\n",
    "    end=int(j[2])\n",
    "    gene_name = data.gene_names_at_locus(contig=chr, position=start,end=end)\n",
    "    transcript=data.transcript_ids_at_locus(contig=chr,position=start,end=end)\n",
    "    if gene_name != []:\n",
    "        # if i==12:\n",
    "        #     print(j)\n",
    "        #     print(chr, start, end, gene_name)\n",
    "        table.at[i,'gene_name']=gene_name\n",
    "    # if transcript != []:\n",
    "    #     table.at[i,'identified']=1\n",
    "\n",
    "table.dropna(subset=['gene_name'], inplace=True)\n"
   ]
  },
  {
   "cell_type": "code",
   "execution_count": 8,
   "metadata": {},
   "outputs": [],
   "source": [
    "# filter out when unmut bigger than mut (deltapsi < 1) #\n",
    "table.rename(columns={'p.adjust':'p.adjust_mu'},inplace=True)\n",
    "table = table[table.deltapsi > 0] # mut-unmut >1"
   ]
  },
  {
   "cell_type": "code",
   "execution_count": null,
   "metadata": {},
   "outputs": [],
   "source": [
    "# the junction (event) is identified in GTF or not #\n",
    "table['identified']=pd.NaT\n",
    "for i,j in enumerate(table.junction):\n",
    "    j=j.split(':')\n",
    "    transcript=data.gene_names_at_locus(j[0], int(j[1]), int(j[2]))\n",
    "    \n",
    "    print(transcript)\n",
    "        #  table.at[i,'identified']=0\n",
    "    # else:\n",
    "    #     table.at[i,'identified']=1"
   ]
  },
  {
   "cell_type": "code",
   "execution_count": 9,
   "metadata": {},
   "outputs": [],
   "source": [
    "# essential gene to sf3b1 #\n",
    "gene_dep=pd.read_csv(\"/home/ls/rachelcw/projects/CRISPR_gene_dependency.csv\")"
   ]
  },
  {
   "cell_type": "code",
   "execution_count": 14,
   "metadata": {},
   "outputs": [
    {
     "name": "stdout",
     "output_type": "stream",
     "text": [
      "[Exon(exon_id='ENSE00001839081.1', gene_id='ENSG00000165813.12', gene_name='C10orf118', contig='10', start=115890785, end=115891095, strand='-'), Exon(exon_id='ENSE00001873682.1', gene_id='ENSG00000165813.12', gene_name='C10orf118', contig='10', start=115889958, end=115890428, strand='-'), Exon(exon_id='ENSE00003514147.1', gene_id='ENSG00000165813.12', gene_name='C10orf118', contig='10', start=115890906, end=115891095, strand='-'), Exon(exon_id='ENSE00003676580.1', gene_id='ENSG00000165813.12', gene_name='C10orf118', contig='10', start=115890906, end=115891095, strand='-')]\n",
      "alt 3 ss\n",
      "Exon(exon_id='ENSE00001839081.1', gene_id='ENSG00000165813.12', gene_name='C10orf118', contig='10', start=115890785, end=115891095, strand='-')\n",
      "alt 3 ss\n",
      "Exon(exon_id='ENSE00001873682.1', gene_id='ENSG00000165813.12', gene_name='C10orf118', contig='10', start=115889958, end=115890428, strand='-')\n",
      "alt 5 ss\n",
      "Exon(exon_id='ENSE00003514147.1', gene_id='ENSG00000165813.12', gene_name='C10orf118', contig='10', start=115890906, end=115891095, strand='-')\n",
      "alt 5 ss\n",
      "Exon(exon_id='ENSE00003676580.1', gene_id='ENSG00000165813.12', gene_name='C10orf118', contig='10', start=115890906, end=115891095, strand='-')\n"
     ]
    }
   ],
   "source": [
    "start=115890428\n",
    "end=115890906\n",
    "exons=data.exons_at_locus(contig='10', position=start,end=end)\n",
    "print(exons)\n",
    "for exon in exons:\n",
    "    if exon.start<end:\n",
    "        print('alt 3 ss')\n",
    "        print(exon)\n",
    "    elif exon.end>start:\n",
    "        print('alt 5 ss')\n",
    "        print(exon)\n",
    "    "
   ]
  },
  {
   "cell_type": "code",
   "execution_count": null,
   "metadata": {},
   "outputs": [],
   "source": [
    "# # alternative 5/3 prime splice site # #\n",
    "for j in table.junction:\n",
    "    j=j.split(':')\n",
    "    chr=j[0].replace('chr','')\n",
    "    start=int(j[1])\n",
    "    end=int(j[2])\n",
    "    # Find the intron with the desired junction coordinates\n",
    "    \n",
    "    for transcript in data.transcripts(chr):\n",
    "    # Iterate over the exons of the gene\n",
    "        #exons=data.exon_ids_of_gene_id(gene.gene_id)\n",
    "        for exon in transcript.exons:\n",
    "            \n",
    "\n",
    "            # Check if the exon has an alternative 5' splice site\n",
    "            # if exon.start < end + 1:\n",
    "            #     print(f'Exon {exon.id} has an alternative 5\\' splice site')\n",
    "            # # Check if the exon has an alternative 3' splice site\n",
    "            # if exon.end == start - 1:\n",
    "            #     print(f'Exon {exon.id} has an alternative 3\\' splice site')\n",
    "        break"
   ]
  }
 ],
 "metadata": {
  "kernelspec": {
   "display_name": "bio",
   "language": "python",
   "name": "python3"
  },
  "language_info": {
   "codemirror_mode": {
    "name": "ipython",
    "version": 3
   },
   "file_extension": ".py",
   "mimetype": "text/x-python",
   "name": "python",
   "nbconvert_exporter": "python",
   "pygments_lexer": "ipython3",
   "version": "3.7.12"
  },
  "orig_nbformat": 4,
  "vscode": {
   "interpreter": {
    "hash": "92e46c1ed4a7e04e80a6b0b61ecc0d4e81522e8537a1175f3140b6d66522f4d7"
   }
  }
 },
 "nbformat": 4,
 "nbformat_minor": 2
}
