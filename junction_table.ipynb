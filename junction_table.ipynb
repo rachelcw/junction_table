{
 "cells": [
  {
   "cell_type": "code",
   "execution_count": 1,
   "metadata": {},
   "outputs": [],
   "source": [
    "import pandas as pd\n",
    "import numpy as np"
   ]
  },
  {
   "cell_type": "code",
   "execution_count": 3,
   "metadata": {},
   "outputs": [],
   "source": [
    "# # effect size tables # #\n",
    "#FDR - 0.05\n",
    "mcll=pd.read_csv(\"/home/ls/rachelcw/projects/LEAFCUTTER/DS/DS.five_percent/analysis.20230115/fdr0.05/filtered.a4.20230115_effect_sizes.txt\",sep=' ')\n",
    "ucll=pd.read_csv(\"/home/ls/rachelcw/projects/LEAFCUTTER/DS/DS.five_percent/analysis.20230115/fdr0.05/filtered.a6.20230115_effect_sizes.txt\",sep=' ')\n",
    "mucll=pd.read_csv(\"/home/ls/rachelcw/projects/LEAFCUTTER/DS/DS.five_percent/analysis.20230115/fdr0.05/filtered.a2.20230115_effect_sizes.txt\",sep=' ')"
   ]
  },
  {
   "cell_type": "code",
   "execution_count": 4,
   "metadata": {},
   "outputs": [],
   "source": [
    "# # junction column, cll column # #\n",
    "table = pd.merge(mcll[['intron','unmut','mut','deltapsi']],ucll[['intron','unmut','mut','deltapsi']], how='outer')\n",
    "table=pd.merge(table, mucll[['intron','unmut','mut','deltapsi']], how='outer')\n",
    "table['analysis_set'] = None\n",
    "table.loc[table['intron'].isin(mcll['intron']), 'analysis_set'] = 'm'\n",
    "table.loc[table['intron'].isin(ucll['intron']), 'analysis_set'] = 'u'\n",
    "table.loc[table['intron'].isin(mucll['intron']),'analysis_set' ] = 'mu'\n",
    "#table.rename({'intron':'junction'},inplace=True)\n",
    "table[['junction','cluster']]=table['intron'].str.rsplit(':',expand=True,n=1)\n",
    "# table.drop(columns='intron',inplace=True)\n",
    "# table = table.reindex(columns=['junction','analysis_set','cluster'])"
   ]
  },
  {
   "cell_type": "code",
   "execution_count": 6,
   "metadata": {},
   "outputs": [],
   "source": [
    "# # cluster significance # # \n",
    "#FDR - 0.05\n",
    "mcll=pd.read_csv(\"/home/ls/rachelcw/projects/LEAFCUTTER/DS/DS.five_percent/analysis.20230115/fdr0.05/filtered.a4.20230115_cluster_significance.txt\",sep=' ')\n",
    "ucll=pd.read_csv(\"/home/ls/rachelcw/projects/LEAFCUTTER/DS/DS.five_percent/analysis.20230115/fdr0.05/filtered.a6.20230115_cluster_significance.txt\",sep=' ')\n",
    "mucll=pd.read_csv(\"/home/ls/rachelcw/projects/LEAFCUTTER/DS/DS.five_percent/analysis.20230115/fdr0.05/filtered.a2.20230115_cluster_significance.txt\",sep=' ')"
   ]
  },
  {
   "cell_type": "code",
   "execution_count": 7,
   "metadata": {},
   "outputs": [],
   "source": [
    "\n",
    "cluster_table=pd.merge(mcll[['cluster','p.adjust']],ucll[['cluster','p.adjust']],on='cluster',how='outer',suffixes=['_m','_u'])\n",
    "cluster_table=cluster_table.merge(mucll[['cluster','p.adjust']],on='cluster',how='outer',suffixes=['_mu'])\n",
    "cluster_table['cluster']=cluster_table['cluster'].str.rsplit(':',expand=True,n=1)[1]"
   ]
  },
  {
   "cell_type": "code",
   "execution_count": 8,
   "metadata": {},
   "outputs": [],
   "source": [
    "table=table.merge(cluster_table,how='left',on='cluster')"
   ]
  },
  {
   "cell_type": "code",
   "execution_count": 9,
   "metadata": {},
   "outputs": [],
   "source": [
    "# gene name\n",
    "import pyensembl\n",
    "table['gene_name']=pd.NaT\n",
    "# table['identified']=pd.NaT\n",
    "data = pyensembl.Genome(\n",
    "    reference_name='GRCh37',\n",
    "    annotation_name='my_genome_lab',\n",
    "    gtf_path_or_url='/private1/private/resources/gencode19_noChrPrefix_mitoMT.gtf')\n",
    "data.index()\n",
    "for i,j in enumerate(table.junction):\n",
    "    j=j.split(':')\n",
    "    chr=j[0].replace('chr','')\n",
    "    start=int(j[1])\n",
    "    end=int(j[2])\n",
    "    gene_name = data.gene_names_at_locus(contig=chr, position=start,end=end)\n",
    "    transcript=data.transcript_ids_at_locus(contig=chr,position=start,end=end)\n",
    "    if gene_name != []:\n",
    "        table.at[i,'gene_name']=gene_name\n",
    "\n",
    "table.dropna(subset=['gene_name'], inplace=True)\n"
   ]
  },
  {
   "cell_type": "code",
   "execution_count": 10,
   "metadata": {},
   "outputs": [],
   "source": [
    "# filter out when unmut bigger than mut (deltapsi < 1) #\n",
    "table.rename(columns={'p.adjust':'p.adjust_mu'},inplace=True)\n",
    "table = table[table.deltapsi > 0] # mut-unmut >1"
   ]
  },
  {
   "cell_type": "code",
   "execution_count": 14,
   "metadata": {},
   "outputs": [
    {
     "name": "stderr",
     "output_type": "stream",
     "text": [
      "/home/ls/rachelcw/miniconda3/envs/bio/lib/python3.7/site-packages/IPython/core/interactiveshell.py:3552: DtypeWarning: Columns (0) have mixed types.Specify dtype option on import or set low_memory=False.\n",
      "  exec(code_obj, self.user_global_ns, self.user_ns)\n"
     ]
    },
    {
     "data": {
      "text/html": [
       "<div>\n",
       "<style scoped>\n",
       "    .dataframe tbody tr th:only-of-type {\n",
       "        vertical-align: middle;\n",
       "    }\n",
       "\n",
       "    .dataframe tbody tr th {\n",
       "        vertical-align: top;\n",
       "    }\n",
       "\n",
       "    .dataframe thead th {\n",
       "        text-align: right;\n",
       "    }\n",
       "</style>\n",
       "<table border=\"1\" class=\"dataframe\">\n",
       "  <thead>\n",
       "    <tr style=\"text-align: right;\">\n",
       "      <th></th>\n",
       "      <th>chrom</th>\n",
       "      <th>start_int</th>\n",
       "      <th>strand</th>\n",
       "    </tr>\n",
       "  </thead>\n",
       "  <tbody>\n",
       "    <tr>\n",
       "      <th>0</th>\n",
       "      <td>X</td>\n",
       "      <td>99891606</td>\n",
       "      <td>-</td>\n",
       "    </tr>\n",
       "    <tr>\n",
       "      <th>1</th>\n",
       "      <td>X</td>\n",
       "      <td>99890556</td>\n",
       "      <td>-</td>\n",
       "    </tr>\n",
       "    <tr>\n",
       "      <th>2</th>\n",
       "      <td>X</td>\n",
       "      <td>99890176</td>\n",
       "      <td>-</td>\n",
       "    </tr>\n",
       "    <tr>\n",
       "      <th>3</th>\n",
       "      <td>X</td>\n",
       "      <td>99888929</td>\n",
       "      <td>-</td>\n",
       "    </tr>\n",
       "    <tr>\n",
       "      <th>4</th>\n",
       "      <td>X</td>\n",
       "      <td>99888403</td>\n",
       "      <td>-</td>\n",
       "    </tr>\n",
       "  </tbody>\n",
       "</table>\n",
       "</div>"
      ],
      "text/plain": [
       "  chrom  start_int strand\n",
       "0     X   99891606      -\n",
       "1     X   99890556      -\n",
       "2     X   99890176      -\n",
       "3     X   99888929      -\n",
       "4     X   99888403      -"
      ]
     },
     "execution_count": 14,
     "metadata": {},
     "output_type": "execute_result"
    }
   ],
   "source": [
    "# the junction (event) is identified in GTF or not #\n",
    "fiveprime=pd.read_csv(\"/home/ls/rachelcw/projects/BIO/annontation_code.20221225_fiveprime.bed.gz\", sep='\\t',compression='gzip', header=None,usecols=[0,2,5] ,names=['chrom', 'start_int',  'strand'])\n",
    "threeprime=pd.read_csv(\"/home/ls/rachelcw/projects/BIO/annontation_code.20221225_threeprime.bed.gz\", sep='\\t',compression='gzip', header=None, usecols=[0,2,5],names=['chrom', 'start_int', 'strand'])\n",
    "threeprime.head()\n",
    "for junc in table.junction:\n",
    "    junc=junc.split(':')\n",
    "    chr=junc[0].replace('chr','')\n",
    "    start=int(junc[1])\n",
    "    end=int(junc[2])"
   ]
  },
  {
   "cell_type": "code",
   "execution_count": 9,
   "metadata": {},
   "outputs": [],
   "source": [
    "# essential gene to sf3b1 #\n",
    "gene_dep=pd.read_csv(\"/home/ls/rachelcw/projects/CRISPR_gene_dependency.csv\")"
   ]
  },
  {
   "cell_type": "code",
   "execution_count": 14,
   "metadata": {},
   "outputs": [
    {
     "name": "stdout",
     "output_type": "stream",
     "text": [
      "[Exon(exon_id='ENSE00001839081.1', gene_id='ENSG00000165813.12', gene_name='C10orf118', contig='10', start=115890785, end=115891095, strand='-'), Exon(exon_id='ENSE00001873682.1', gene_id='ENSG00000165813.12', gene_name='C10orf118', contig='10', start=115889958, end=115890428, strand='-'), Exon(exon_id='ENSE00003514147.1', gene_id='ENSG00000165813.12', gene_name='C10orf118', contig='10', start=115890906, end=115891095, strand='-'), Exon(exon_id='ENSE00003676580.1', gene_id='ENSG00000165813.12', gene_name='C10orf118', contig='10', start=115890906, end=115891095, strand='-')]\n",
      "alt 3 ss\n",
      "Exon(exon_id='ENSE00001839081.1', gene_id='ENSG00000165813.12', gene_name='C10orf118', contig='10', start=115890785, end=115891095, strand='-')\n",
      "alt 3 ss\n",
      "Exon(exon_id='ENSE00001873682.1', gene_id='ENSG00000165813.12', gene_name='C10orf118', contig='10', start=115889958, end=115890428, strand='-')\n",
      "alt 5 ss\n",
      "Exon(exon_id='ENSE00003514147.1', gene_id='ENSG00000165813.12', gene_name='C10orf118', contig='10', start=115890906, end=115891095, strand='-')\n",
      "alt 5 ss\n",
      "Exon(exon_id='ENSE00003676580.1', gene_id='ENSG00000165813.12', gene_name='C10orf118', contig='10', start=115890906, end=115891095, strand='-')\n"
     ]
    }
   ],
   "source": [
    "start=115890428\n",
    "end=115890906\n",
    "exons=data.exons_at_locus(contig='10', position=start,end=end)\n",
    "print(exons)\n",
    "for exon in exons:\n",
    "    if exon.start<end:\n",
    "        print('alt 3 ss')\n",
    "        print(exon)\n",
    "    elif exon.end>start:\n",
    "        print('alt 5 ss')\n",
    "        print(exon)\n",
    "    "
   ]
  },
  {
   "cell_type": "code",
   "execution_count": null,
   "metadata": {},
   "outputs": [],
   "source": [
    "# # alternative 5/3 prime splice site # #\n",
    "for j in table.junction:\n",
    "    j=j.split(':')\n",
    "    chr=j[0].replace('chr','')\n",
    "    start=int(j[1])\n",
    "    end=int(j[2])\n",
    "    # Find the intron with the desired junction coordinates\n",
    "    \n",
    "    for transcript in data.transcripts(chr):\n",
    "    # Iterate over the exons of the gene\n",
    "        #exons=data.exon_ids_of_gene_id(gene.gene_id)\n",
    "        for exon in transcript.exons:\n",
    "            \n",
    "\n",
    "            # Check if the exon has an alternative 5' splice site\n",
    "            # if exon.start < end + 1:\n",
    "            #     print(f'Exon {exon.id} has an alternative 5\\' splice site')\n",
    "            # # Check if the exon has an alternative 3' splice site\n",
    "            # if exon.end == start - 1:\n",
    "            #     print(f'Exon {exon.id} has an alternative 3\\' splice site')\n",
    "        break"
   ]
  }
 ],
 "metadata": {
  "kernelspec": {
   "display_name": "bio",
   "language": "python",
   "name": "python3"
  },
  "language_info": {
   "codemirror_mode": {
    "name": "ipython",
    "version": 3
   },
   "file_extension": ".py",
   "mimetype": "text/x-python",
   "name": "python",
   "nbconvert_exporter": "python",
   "pygments_lexer": "ipython3",
   "version": "3.7.12"
  },
  "orig_nbformat": 4,
  "vscode": {
   "interpreter": {
    "hash": "92e46c1ed4a7e04e80a6b0b61ecc0d4e81522e8537a1175f3140b6d66522f4d7"
   }
  }
 },
 "nbformat": 4,
 "nbformat_minor": 2
}
