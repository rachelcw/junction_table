{
 "cells": [
  {
   "cell_type": "code",
   "execution_count": 22,
   "metadata": {},
   "outputs": [],
   "source": [
    "import pandas as pd\n",
    "import numpy as np\n",
    "import seaborn as sns\n",
    "import re"
   ]
  },
  {
   "cell_type": "code",
   "execution_count": 101,
   "metadata": {},
   "outputs": [],
   "source": [
    "# # effect size tables # #\n",
    "#FDR - 0.05\n",
    "mcll=pd.read_csv(\"/home/ls/rachelcw/projects/LEAFCUTTER/DS/DS.five_percent/analysis.20230115/fdr0.05/filtered.a4.20230115_effect_sizes.txt\",sep=' ')\n",
    "ucll=pd.read_csv(\"/home/ls/rachelcw/projects/LEAFCUTTER/DS/DS.five_percent/analysis.20230115/fdr0.05/filtered.a6.20230115_effect_sizes.txt\",sep=' ')\n",
    "mucll=pd.read_csv(\"/home/ls/rachelcw/projects/LEAFCUTTER/DS/DS.five_percent/analysis.20230115/fdr0.05/filtered.a2.20230115_effect_sizes.txt\",sep=' ')"
   ]
  },
  {
   "cell_type": "code",
   "execution_count": 102,
   "metadata": {},
   "outputs": [],
   "source": [
    "# # junction column, cll column # #\n",
    "table = pd.merge(mcll[['intron','unmut','mut','deltapsi']],ucll[['intron','unmut','mut','deltapsi']], how='outer')\n",
    "table=pd.merge(table, mucll[['intron','unmut','mut','deltapsi']], how='outer')\n",
    "table['analysis_set'] = None\n",
    "table.loc[table['intron'].isin(mcll['intron']), 'analysis_set'] = 'm'\n",
    "table.loc[table['intron'].isin(ucll['intron']), 'analysis_set'] = 'u'\n",
    "table.loc[table['intron'].isin(mucll['intron']),'analysis_set' ] = 'mu' #TODO only m/u?\n",
    "#table.rename({'intron':'junction'},inplace=True)\n",
    "table[['junction','cluster']]=table['intron'].str.rsplit(':',expand=True,n=1)\n",
    "# table.drop(columns='intron',inplace=True)\n",
    "# table = table.reindex(columns=['junction','analysis_set','cluster'])"
   ]
  },
  {
   "cell_type": "code",
   "execution_count": null,
   "metadata": {},
   "outputs": [],
   "source": []
  },
  {
   "cell_type": "code",
   "execution_count": 103,
   "metadata": {},
   "outputs": [],
   "source": [
    "# # cluster significance # # \n",
    "#FDR - 0.05\n",
    "mcll=pd.read_csv(\"/home/ls/rachelcw/projects/LEAFCUTTER/DS/DS.five_percent/analysis.20230115/fdr0.05/filtered.a4.20230115_cluster_significance.txt\",sep=' ')\n",
    "ucll=pd.read_csv(\"/home/ls/rachelcw/projects/LEAFCUTTER/DS/DS.five_percent/analysis.20230115/fdr0.05/filtered.a6.20230115_cluster_significance.txt\",sep=' ')\n",
    "mucll=pd.read_csv(\"/home/ls/rachelcw/projects/LEAFCUTTER/DS/DS.five_percent/analysis.20230115/fdr0.05/filtered.a2.20230115_cluster_significance.txt\",sep=' ')"
   ]
  },
  {
   "cell_type": "code",
   "execution_count": 104,
   "metadata": {},
   "outputs": [],
   "source": [
    "# merge cluster significance tables #\n",
    "cluster_table=pd.merge(mcll[['cluster','p.adjust']],ucll[['cluster','p.adjust']],on='cluster',how='outer',suffixes=['_m','_u'])\n",
    "cluster_table=cluster_table.merge(mucll[['cluster','p.adjust']],on='cluster',how='outer')\n",
    "cluster_table['cluster']=cluster_table['cluster'].str.rsplit(':',expand=True,n=1)[1]"
   ]
  },
  {
   "cell_type": "code",
   "execution_count": 105,
   "metadata": {},
   "outputs": [],
   "source": [
    "# merge table with cluster table #\n",
    "table=table.merge(cluster_table,how='left',on='cluster')"
   ]
  },
  {
   "cell_type": "code",
   "execution_count": 106,
   "metadata": {},
   "outputs": [],
   "source": [
    "# add chrom column #\n",
    "table[\"chrom\"]=table['intron'].str.rsplit(':',expand=True,n=3)[0]\n",
    "table[\"chrom\"]=table[\"chrom\"].str.replace('chr','')"
   ]
  },
  {
   "cell_type": "code",
   "execution_count": 107,
   "metadata": {},
   "outputs": [],
   "source": [
    "# loading gtf file- only protein coding #\n",
    "import pyensembl\n",
    "table['gene_name']=pd.NaT\n",
    "# table['identified']=pd.NaT\n",
    "data = pyensembl.Genome(\n",
    "    reference_name='GRCh37',\n",
    "    annotation_name='my_genome_lab',\n",
    "    gtf_path_or_url='/home/ls/rachelcw/projects/protein_coding.gtf')\n",
    "data.index()\n"
   ]
  },
  {
   "cell_type": "code",
   "execution_count": 108,
   "metadata": {},
   "outputs": [],
   "source": [
    "# gene name per junction #\n",
    "for i,j in enumerate(table.junction):\n",
    "    j=j.split(':')\n",
    "    chr=j[0].replace('chr','')\n",
    "    start=int(j[1])\n",
    "    end=int(j[2])\n",
    "    gene_name = data.gene_names_at_locus(contig=chr, position=start,end=end)\n",
    "    if gene_name != []:\n",
    "        table.at[i,'gene_name']=gene_name\n",
    "    \n",
    "\n",
    "table.dropna(subset=['gene_name'], inplace=True)\n"
   ]
  },
  {
   "cell_type": "code",
   "execution_count": null,
   "metadata": {},
   "outputs": [],
   "source": [
    "all_intron=pd.read_csv(\"/home/ls/rachelcw/projects/BIO/annontation_code.20221225_fiveprime.bed.gz\", sep='\\t',compression='gzip', header=None,usecols=[0,1,2,3,5,8] ,names=['chrom', 'start','end','gene_name', 'strand','type'])\n",
    "all_intron['chrom'] = all_intron['chrom'].astype(str)\n",
    "intron_list=all_intron[\"gene_name\"].unique()"
   ]
  },
  {
   "cell_type": "code",
   "execution_count": 110,
   "metadata": {},
   "outputs": [],
   "source": [
    "# filter out when unmut bigger than mut (deltapsi < 1) #\n",
    "table.rename(columns={'p.adjust':'p.adjust_mu'},inplace=True)\n",
    "table = table[table.deltapsi > 0] # mut-unmut >1"
   ]
  },
  {
   "cell_type": "code",
   "execution_count": 111,
   "metadata": {},
   "outputs": [],
   "source": [
    "# for duplicates juction save only the junction with the highest deltapsi #\n",
    "table=table.sort_values('deltapsi', ascending=False)\n",
    "table.drop_duplicates(subset='intron',keep='first', inplace=True)\n",
    "table=table.reset_index()"
   ]
  },
  {
   "cell_type": "code",
   "execution_count": 112,
   "metadata": {},
   "outputs": [],
   "source": [
    "# reads count per juction #\n",
    "counts_read=pd.read_csv(\"/home/ls/rachelcw/projects/LEAFCUTTER/lc_20230108/lc_20230108_perind_numers.counts.gz\", sep=' ',compression='gzip')"
   ]
  },
  {
   "cell_type": "code",
   "execution_count": 113,
   "metadata": {},
   "outputs": [],
   "source": [
    "junction_list=table[\"intron\"].str.replace(\"chr\",\"\").values\n",
    "counts_junction=counts_read.loc[counts_read.index.isin(junction_list)]\n"
   ]
  },
  {
   "cell_type": "code",
   "execution_count": 114,
   "metadata": {},
   "outputs": [],
   "source": [
    "counts=[np.sum(x) for x in counts_junction.values]\n",
    "counts_table=pd.DataFrame({\"counts\":counts},index=counts_junction.index)\n",
    "table[\"intron\"]=table[\"intron\"].str.replace(\"chr\",\"\")\n",
    "table=table.merge(counts_table,how=\"left\",left_on=\"intron\",right_index=True)"
   ]
  },
  {
   "cell_type": "code",
   "execution_count": 10,
   "metadata": {},
   "outputs": [],
   "source": [
    "# table.to_csv(\"/home/ls/rachelcw/projects/BIO/table.20230123.csv\",index=0)\n",
    "\n",
    "table_p=pd.read_csv(\"/home/ls/rachelcw/projects/BIO/table.20230123.csv\")"
   ]
  },
  {
   "cell_type": "code",
   "execution_count": 116,
   "metadata": {},
   "outputs": [
    {
     "name": "stderr",
     "output_type": "stream",
     "text": [
      "/home/ls/rachelcw/miniconda3/envs/bio_sns/lib/python3.7/site-packages/IPython/core/interactiveshell.py:3552: DtypeWarning: Columns (0) have mixed types.Specify dtype option on import or set low_memory=False.\n",
      "  exec(code_obj, self.user_global_ns, self.user_ns)\n"
     ]
    }
   ],
   "source": [
    "# the junction (event) is identified in GTF (known 5, known 3, known junction, novel), add strand column (+\\-) #\n",
    "fiveprime=pd.read_csv(\"/home/ls/rachelcw/projects/BIO/annontation_code.20221225_fiveprime.bed.gz\", sep='\\t',compression='gzip', header=None,usecols=[0,1,5,8] ,names=['chrom', 'start_int',  'strand','type'])\n",
    "fiveprime['chrom'] = fiveprime['chrom'].astype(str)\n",
    "fiveprime= fiveprime.loc[(fiveprime.type=='protein_coding')]\n",
    "threeprime=pd.read_csv(\"/home/ls/rachelcw/projects/BIO/annontation_code.20221225_threeprime.bed.gz\", sep='\\t',compression='gzip', header=None, usecols=[0,1,5,8] ,names=['chrom', 'start_int',  'strand','type'])\n",
    "threeprime['chrom'] = threeprime['chrom'].astype(str)\n",
    "threeprime= threeprime.loc[(threeprime.type=='protein_coding')]\n",
    "table['identified_gtf']=pd.NaT\n",
    "table['strand']= pd.NaT\n",
    "\n",
    "for chr in fiveprime.chrom.unique():\n",
    "    fiveprime_chr=fiveprime.loc[fiveprime.chrom==chr]\n",
    "    threeprime_chr=threeprime.loc[threeprime.chrom==chr]\n",
    "    chr_table=table.loc[table.chrom==chr]\n",
    "    for junc in chr_table.junction:\n",
    "        junction=junc.split(':')\n",
    "        # chr=junction[0].replace('chr','')\n",
    "        start=int(junction[1])\n",
    "        end=int(junction[2])\n",
    "        identified= \"\"\n",
    "        counter = 0\n",
    "        if fiveprime_chr['start_int'].isin([start]).any():\n",
    "            identified= \"known 5'\"\n",
    "            counter = counter +1\n",
    "            strand=list(fiveprime_chr.loc[fiveprime_chr.start_int==start,'strand'])[0]\n",
    "            table.loc[table.junction==junc,'strand']=strand\n",
    "        if threeprime_chr['start_int'].isin([end]).any():\n",
    "            identified= \"known 3'\"\n",
    "            counter = counter +1\n",
    "            strand=list(threeprime_chr.loc[threeprime_chr.start_int==end,'strand'])[0]\n",
    "            table.loc[table.junction==junc,'strand']= strand\n",
    "        if counter == 2:\n",
    "            identified = \"known junction\"\n",
    "        if counter == 0:\n",
    "            identified = \"novel\"\n",
    "        table.loc[table.junction==junc,'identified_gtf']=identified\n",
    "          "
   ]
  },
  {
   "cell_type": "code",
   "execution_count": 23,
   "metadata": {},
   "outputs": [
    {
     "data": {
      "text/plain": [
       "[Text(0, 0, '2788'), Text(0, 0, '524'), Text(0, 0, '1286')]"
      ]
     },
     "execution_count": 23,
     "metadata": {},
     "output_type": "execute_result"
    },
    {
     "data": {
      "image/png": "[encoded data removed]",
      "text/plain": [
       "<Figure size 432x288 with 1 Axes>"
      ]
     },
     "metadata": {
      "needs_background": "light"
     },
     "output_type": "display_data"
    }
   ],
   "source": [
    "plot_table=table.filter(items=[\"intron\",\"identified_gtf\",\"strand\"])\n",
    "# plot_table.drop_duplicates(inplace=True)\n",
    "ax=sns.histplot(data=plot_table, x='identified_gtf',hue='strand',multiple=\"stack\")\n",
    "# ax=sns.histplot(data=plot_table, x='identified gtf')\n",
    "ax.bar_label(ax.containers[0])"
   ]
  },
  {
   "cell_type": "code",
   "execution_count": null,
   "metadata": {},
   "outputs": [],
   "source": [
    "table[\"cluster\"].value_counts().value_counts()"
   ]
  },
  {
   "cell_type": "code",
   "execution_count": 117,
   "metadata": {},
   "outputs": [],
   "source": [
    "# table of 5/3 known events #\n",
    "table_altss=table[table[\"identified_gtf\"].str.contains(\"\\d\")]"
   ]
  },
  {
   "cell_type": "code",
   "execution_count": 119,
   "metadata": {},
   "outputs": [],
   "source": [
    "table_altss=table_altss.reset_index()\n",
    "table_altss[\"gene_by_strand\"]= pd.NaT\n",
    "for i,j in zip(table_altss[\"junction\"].index,table_altss[\"junction\"]):\n",
    "    j=j.split(':')\n",
    "    chr=j[0].replace('chr','')\n",
    "    start=int(j[1])\n",
    "    end=int(j[2])\n",
    "    strand=table_altss[\"strand\"].iloc[i]\n",
    "    gene_name = data.gene_names_at_locus(contig=chr, position=start,end=end,strand=strand)\n",
    "    table_altss.at[i,'gene_by_strand']=gene_name\n",
    "    "
   ]
  },
  {
   "cell_type": "code",
   "execution_count": 120,
   "metadata": {},
   "outputs": [],
   "source": [
    "# annotation column #\n",
    "table_altss['annotation']=pd.NaT\n",
    "table_altss['donor/acceptor']=pd.NaT\n",
    "\n",
    "# alternative 5 / 3 splice site- known only one prime\n",
    "# known 3' #\n",
    "condition = re.compile(\"3\")\n",
    "table_altss.loc[table_altss['identified_gtf'].str.contains(condition),'donor/acceptor']=\"donor\"\n",
    "table_altss.loc[(table_altss['identified_gtf'].str.contains(condition))&(table_altss['strand'].str.contains(\"\\\\+\")),'annotation']=\"A5SS\"\n",
    "table_altss.loc[(table_altss['identified_gtf'].str.contains(condition))&(table_altss['strand'].str.contains(\"-\")),'annotation']=\"A3SS\"\n",
    "\n",
    "# known 5' #\n",
    "condition = re.compile(\"5\")\n",
    "table_altss.loc[table_altss['identified_gtf'].str.contains(condition),'donor/acceptor']=\"acceptor\"\n",
    "table_altss.loc[(table_altss['identified_gtf'].str.contains(condition))&(table_altss['strand'].str.contains(\"\\\\+\")),'annotation']=\"A3SS\" \n",
    "table_altss.loc[(table_altss['identified_gtf'].str.contains(condition))&(table_altss['strand'].str.contains(\"-\")),'annotation']=\"A5SS\" \n",
    "\n",
    "\n"
   ]
  },
  {
   "cell_type": "code",
   "execution_count": 121,
   "metadata": {},
   "outputs": [],
   "source": [
    "# frameshift #\n",
    "table_altss['frameshift']=pd.NaT\n",
    "for junc in table_altss.junction:\n",
    "    junction=junc.split(':')\n",
    "    start=int(junction[1])\n",
    "    end=int(junction[2])\n",
    "    size=end-start\n",
    "    if size%3==0:\n",
    "        table_altss.loc[table_altss.junction==junc,'frameshift']=\"0\"\n",
    "    else:\n",
    "        table_altss.loc[table_altss.junction==junc,'frameshift']=\"1\"\n",
    "\n",
    "table_altss['frameshift'].value_counts()\n",
    "# table of no frameshift events #\n",
    "no_frameshift=table_altss[table_altss[\"frameshift\"].str.contains(\"0\")]"
   ]
  },
  {
   "cell_type": "code",
   "execution_count": 122,
   "metadata": {},
   "outputs": [],
   "source": [
    "# essential gene #\n",
    "# gene_dep=pd.read_csv(\"/home/ls/rachelcw/projects/CRISPR_gene_dependency.csv\")\n",
    "essential_gene=pd.read_csv(\"/home/ls/rachelcw/projects/CRISPRInferredCommonEssentials.csv\")\n",
    "pattern=re.compile(\"\\\\(*\\d*\\\\)\")\n",
    "essential_gene[\"Essentials\"]=essential_gene[\"Essentials\"].str.replace(pattern,'')\n",
    "essential_gene[\"Essentials\"]=essential_gene[\"Essentials\"].str.replace(\" \",'')\n",
    "essential_gene_list=essential_gene[\"Essentials\"].to_list()"
   ]
  },
  {
   "cell_type": "code",
   "execution_count": 123,
   "metadata": {},
   "outputs": [
    {
     "name": "stderr",
     "output_type": "stream",
     "text": [
      "/home/ls/rachelcw/miniconda3/envs/bio_sns/lib/python3.7/site-packages/ipykernel_launcher.py:1: SettingWithCopyWarning: \n",
      "A value is trying to be set on a copy of a slice from a DataFrame.\n",
      "Try using .loc[row_indexer,col_indexer] = value instead\n",
      "\n",
      "See the caveats in the documentation: https://pandas.pydata.org/pandas-docs/stable/user_guide/indexing.html#returning-a-view-versus-a-copy\n",
      "  \"\"\"Entry point for launching an IPython kernel.\n",
      "/home/ls/rachelcw/miniconda3/envs/bio_sns/lib/python3.7/site-packages/pandas/core/indexing.py:1817: SettingWithCopyWarning: \n",
      "A value is trying to be set on a copy of a slice from a DataFrame.\n",
      "Try using .loc[row_indexer,col_indexer] = value instead\n",
      "\n",
      "See the caveats in the documentation: https://pandas.pydata.org/pandas-docs/stable/user_guide/indexing.html#returning-a-view-versus-a-copy\n",
      "  self._setitem_single_column(loc, value, pi)\n"
     ]
    }
   ],
   "source": [
    "no_frameshift[\"essential\"]=pd.NaT\n",
    "for i,gene in zip(no_frameshift[\"gene_by_strand\"].index,no_frameshift[\"gene_by_strand\"]):\n",
    "    esn=\"\"\n",
    "    if len(gene)>1:\n",
    "        no_frameshift.loc[i,\"essential\"]=\"check\"\n",
    "    else:\n",
    "        \n",
    "        if gene[0] in essential_gene_list:\n",
    "            no_frameshift.loc[i,\"essential\"]=\"1\"\n",
    "        else:\n",
    "            no_frameshift.loc[i,\"essential\"]=\"0\""
   ]
  },
  {
   "cell_type": "code",
   "execution_count": 128,
   "metadata": {},
   "outputs": [],
   "source": [
    "essential_no_frameshift=no_frameshift[no_frameshift[\"essential\"].str.contains(\"1\")]\n",
    "essential_no_frameshift=essential_no_frameshift.drop(columns=[\"index\",\"level_0\"])"
   ]
  },
  {
   "cell_type": "code",
   "execution_count": 26,
   "metadata": {},
   "outputs": [
    {
     "data": {
      "image/png": "[encoded data removed]",
      "text/plain": [
       "<Figure size 432x288 with 1 Axes>"
      ]
     },
     "metadata": {
      "needs_background": "light"
     },
     "output_type": "display_data"
    }
   ],
   "source": [
    "ax=sns.histplot(data=essential_no_frameshift, x='annotation')"
   ]
  },
  {
   "cell_type": "code",
   "execution_count": 89,
   "metadata": {},
   "outputs": [],
   "source": [
    "f = open(\"/private1/private/resources/gencode19_noChrPrefix_mitoMT.gtf\", \"r\")\n",
    "line = f.readlines()\n",
    "lines = list()\n",
    "for l in line:\n",
    "    if not l.startswith('#'):\n",
    "        lines.append(l) # 2,619,444\n",
    "clean = [l.replace(';', '\\t') for l in lines] # get rid of ;\n",
    "clean = [l.split('\\t') for l in clean] # get rid of \\t\n",
    "clean_data = [row[0:13] for row in clean] # cut columns\n",
    "# input to df\n",
    "gtf_data = pd.DataFrame(clean_data, columns=[\"chr\", \"source\", \"feature_type\", \"start\", \"end\", \"score \",\"strand\", \"phase\", \"gene_id\", \"transcript_id\", \"gene_type\",\"gene_status\",\"gene_name\"])\n",
    "gtf_data = gtf_data[gtf_data.feature_type==\"gene\"] # 57,820 genes\n",
    "gtf_data = gtf_data.loc[gtf_data[\"gene_type\"].str.contains(\"protein_coding\")] # 20,345 protein_coding genes\n",
    "# get ENS names\n",
    "for i, gene in enumerate(gtf_data.gene_id): # values in col\n",
    "    gtf_data.gene_id.iloc[i] = gtf_data.gene_id.iloc[i].replace('gene_id','')\n",
    " # 20,345\n"
   ]
  },
  {
   "cell_type": "code",
   "execution_count": 108,
   "metadata": {},
   "outputs": [
    {
     "data": {
      "text/plain": [
       "'AL627309.1'"
      ]
     },
     "execution_count": 108,
     "metadata": {},
     "output_type": "execute_result"
    }
   ],
   "source": [
    "protein_coding_genes = gtf_data[\"gene_name\"].str.replace(\" gene_name \",\"\")  # 20,345\n",
    "protein_coding_genes = [name[1:-1] for name in protein_coding_genes] \n",
    "protein_coding_genes[1]"
   ]
  },
  {
   "cell_type": "code",
   "execution_count": null,
   "metadata": {},
   "outputs": [],
   "source": [
    "sns.barplot(x=gene_dep.mean())\n",
    "# ax=sns.distplot(gene_dep.mean())"
   ]
  },
  {
   "cell_type": "code",
   "execution_count": 32,
   "metadata": {},
   "outputs": [],
   "source": [
    "exons=pd.read_csv(\"/private1/private/resources/bedfile_from_gtf/annontation_code.20221225_all_exons.txt.gz\", sep='\\t',compression='gzip')"
   ]
  },
  {
   "cell_type": "code",
   "execution_count": null,
   "metadata": {},
   "outputs": [],
   "source": [
    "# skipped exon #\n",
    "condition = re.compile(\"known junction\")\n",
    "index=table[table['identified gtf'].str.contains(condition)].index\n",
    "table_known=table.loc[index]\n",
    "\n",
    "# exon=pd.read_csv(\"/private1/private/resources/bedfile_from_gtf/annontation_code.20221225_all_exons.txt.gz\",sep='\\t',compression='gzip')\n",
    "for j in table_known.junction:\n",
    "    junction=junc.split(':')\n",
    "    chr=junction[0].replace('chr','')\n",
    "    start=int(junction[1])\n",
    "    end=int(junction[2])\n",
    "    annotation=\"\"\n",
    "    for exon in data.exons_at_locus(chr,start,end=end):\n",
    "\n"
   ]
  }
 ],
 "metadata": {
  "kernelspec": {
   "display_name": "bio_sns",
   "language": "python",
   "name": "python3"
  },
  "language_info": {
   "codemirror_mode": {
    "name": "ipython",
    "version": 3
   },
   "file_extension": ".py",
   "mimetype": "text/x-python",
   "name": "python",
   "nbconvert_exporter": "python",
   "pygments_lexer": "ipython3",
   "version": "3.7.12"
  },
  "orig_nbformat": 4,
  "vscode": {
   "interpreter": {
    "hash": "09c864c3accc55c172f1ccd7cebbbda7e215cf87239813b034d31565a8f44a22"
   }
  }
 },
 "nbformat": 4,
 "nbformat_minor": 2
}
