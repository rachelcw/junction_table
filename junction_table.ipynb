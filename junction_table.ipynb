{
 "cells": [
  {
   "cell_type": "code",
   "execution_count": 1,
   "metadata": {},
   "outputs": [],
   "source": [
    "import pandas as pd\n",
    "import numpy as np"
   ]
  },
  {
   "cell_type": "code",
   "execution_count": 2,
   "metadata": {},
   "outputs": [],
   "source": [
    "# # effect size tables # #\n",
    "#FDR - 0.05\n",
    "mcll=pd.read_csv(\"/home/ls/rachelcw/projects/LEAFCUTTER/DS/DS.five_percent/analysis.20230115/fdr0.05/filtered.a4.20230115_effect_sizes.txt\",sep=' ')\n",
    "ucll=pd.read_csv(\"/home/ls/rachelcw/projects/LEAFCUTTER/DS/DS.five_percent/analysis.20230115/fdr0.05/filtered.a6.20230115_effect_sizes.txt\",sep=' ')\n",
    "mucll=pd.read_csv(\"/home/ls/rachelcw/projects/LEAFCUTTER/DS/DS.five_percent/analysis.20230115/fdr0.05/filtered.a2.20230115_effect_sizes.txt\",sep=' ')"
   ]
  },
  {
   "cell_type": "code",
   "execution_count": 3,
   "metadata": {},
   "outputs": [],
   "source": [
    "# # junction column, cll column # #\n",
    "table = pd.merge(mcll[['intron','unmut','mut','deltapsi']],ucll[['intron','unmut','mut','deltapsi']], how='outer')\n",
    "table=pd.merge(table, mucll[['intron','unmut','mut','deltapsi']], how='outer')\n",
    "table['analysis_set'] = None\n",
    "table.loc[table['intron'].isin(mcll['intron']), 'analysis_set'] = 'm'\n",
    "table.loc[table['intron'].isin(ucll['intron']), 'analysis_set'] = 'u'\n",
    "table.loc[table['intron'].isin(mucll['intron']),'analysis_set' ] = 'mu'\n",
    "#table.rename({'intron':'junction'},inplace=True)\n",
    "table[['junction','cluster']]=table['intron'].str.rsplit(':',expand=True,n=1)\n",
    "# table.drop(columns='intron',inplace=True)\n",
    "# table = table.reindex(columns=['junction','analysis_set','cluster'])"
   ]
  },
  {
   "cell_type": "code",
   "execution_count": 4,
   "metadata": {},
   "outputs": [],
   "source": [
    "# # cluster significance # # \n",
    "#FDR - 0.05\n",
    "mcll=pd.read_csv(\"/home/ls/rachelcw/projects/LEAFCUTTER/DS/DS.five_percent/analysis.20230115/fdr0.05/filtered.a4.20230115_cluster_significance.txt\",sep=' ')\n",
    "ucll=pd.read_csv(\"/home/ls/rachelcw/projects/LEAFCUTTER/DS/DS.five_percent/analysis.20230115/fdr0.05/filtered.a6.20230115_cluster_significance.txt\",sep=' ')\n",
    "mucll=pd.read_csv(\"/home/ls/rachelcw/projects/LEAFCUTTER/DS/DS.five_percent/analysis.20230115/fdr0.05/filtered.a2.20230115_cluster_significance.txt\",sep=' ')"
   ]
  },
  {
   "cell_type": "code",
   "execution_count": 5,
   "metadata": {},
   "outputs": [],
   "source": [
    "\n",
    "cluster_table=pd.merge(mcll[['cluster','p.adjust']],ucll[['cluster','p.adjust']],on='cluster',how='outer',suffixes=['_m','_u'])\n",
    "cluster_table=cluster_table.merge(mucll[['cluster','p.adjust']],on='cluster',how='outer',suffixes=['_mu'])\n",
    "cluster_table['cluster']=cluster_table['cluster'].str.rsplit(':',expand=True,n=1)[1]"
   ]
  },
  {
   "cell_type": "code",
   "execution_count": 7,
   "metadata": {},
   "outputs": [],
   "source": [
    "table=table.merge(cluster_table,how='left',on='cluster')"
   ]
  },
  {
   "cell_type": "code",
   "execution_count": null,
   "metadata": {},
   "outputs": [],
   "source": [
    "table[\"chrom\"]=table['intron'].str.rsplit(':',expand=True,n=3)[0]\n",
    "table[\"chrom\"]=table[\"chrom\"].str.replace('chr','')"
   ]
  },
  {
   "cell_type": "code",
   "execution_count": 8,
   "metadata": {},
   "outputs": [],
   "source": [
    "# gene name\n",
    "import pyensembl\n",
    "table['gene_name']=pd.NaT\n",
    "# table['identified']=pd.NaT\n",
    "data = pyensembl.Genome(\n",
    "    reference_name='GRCh37',\n",
    "    annotation_name='my_genome_lab',\n",
    "    gtf_path_or_url='/private1/private/resources/gencode19_noChrPrefix_mitoMT.gtf')\n",
    "data.index()\n",
    "for i,j in enumerate(table.junction):\n",
    "    j=j.split(':')\n",
    "    chr=j[0].replace('chr','')\n",
    "    start=int(j[1])\n",
    "    end=int(j[2])\n",
    "    gene_name = data.gene_names_at_locus(contig=chr, position=start,end=end)\n",
    "    if gene_name != []:\n",
    "        table.at[i,'gene_name']=gene_name\n",
    "    \n",
    "\n",
    "table.dropna(subset=['gene_name'], inplace=True)\n"
   ]
  },
  {
   "cell_type": "code",
   "execution_count": 9,
   "metadata": {},
   "outputs": [],
   "source": [
    "# filter out when unmut bigger than mut (deltapsi < 1) #\n",
    "table.rename(columns={'p.adjust':'p.adjust_mu'},inplace=True)\n",
    "table = table[table.deltapsi > 0] # mut-unmut >1"
   ]
  },
  {
   "cell_type": "code",
   "execution_count": 75,
   "metadata": {},
   "outputs": [],
   "source": [
    "# table.to_csv(\"/home/ls/rachelcw/projects/BIO/table.20230123.csv\",index=0)\n",
    "\n",
    "table=pd.read_csv(\"/home/ls/rachelcw/projects/BIO/table.20230123.csv\")"
   ]
  },
  {
   "cell_type": "code",
   "execution_count": 90,
   "metadata": {},
   "outputs": [
    {
     "name": "stderr",
     "output_type": "stream",
     "text": [
      "/home/ls/rachelcw/miniconda3/envs/bio_sns/lib/python3.7/site-packages/IPython/core/interactiveshell.py:3552: DtypeWarning: Columns (0) have mixed types.Specify dtype option on import or set low_memory=False.\n",
      "  exec(code_obj, self.user_global_ns, self.user_ns)\n"
     ]
    }
   ],
   "source": [
    "# the junction (event) is identified in GTF (known 5, known 3, known junction, novel), add strand column (+\\-) #\n",
    "fiveprime=pd.read_csv(\"/home/ls/rachelcw/projects/BIO/annontation_code.20221225_fiveprime.bed.gz\", sep='\\t',compression='gzip', header=None,usecols=[0,1,5,8] ,names=['chrom', 'start_int',  'strand','type'])\n",
    "fiveprime['chrom'] = fiveprime['chrom'].astype(str)\n",
    "fiveprime= fiveprime.loc[(fiveprime.type=='protein_coding')|(fiveprime.type=='lncRNA')]\n",
    "threeprime=pd.read_csv(\"/home/ls/rachelcw/projects/BIO/annontation_code.20221225_threeprime.bed.gz\", sep='\\t',compression='gzip', header=None, usecols=[0,1,5,8] ,names=['chrom', 'start_int',  'strand','type'])\n",
    "threeprime['chrom'] = threeprime['chrom'].astype(str)\n",
    "threeprime= threeprime.loc[(threeprime.type=='protein_coding') | (threeprime.type=='lncRNA')]\n",
    "table['identified gtf']=pd.NaT\n",
    "table['strand']= pd.NaT\n",
    "\n",
    "for chr in fiveprime.chrom.unique():\n",
    "    fiveprime_chr=fiveprime.loc[fiveprime.chrom==chr]\n",
    "    threeprime_chr=threeprime.loc[threeprime.chrom==chr]\n",
    "    chr_table=table.loc[table.chrom==chr]\n",
    "    for junc in chr_table.junction:\n",
    "        junction=junc.split(':')\n",
    "        # chr=junction[0].replace('chr','')\n",
    "        start=int(junction[1])\n",
    "        end=int(junction[2])\n",
    "        annotation= \"\"\n",
    "        counter = 0\n",
    "        if fiveprime_chr['start_int'].isin([start]).any():\n",
    "            annotation= \"known 5'\"\n",
    "            counter = counter +1\n",
    "            strand=list(fiveprime_chr.loc[fiveprime_chr.start_int==start,'strand'])[0]\n",
    "            table.loc[table.junction==junc,'strand']=strand\n",
    "        if threeprime_chr['start_int'].isin([end]).any():\n",
    "            annotation= \"known 3'\"\n",
    "            counter = counter +1\n",
    "            strand=list(threeprime_chr.loc[threeprime_chr.start_int==end,'strand'])[0]\n",
    "            table.loc[table.junction==junc,'strand']= strand\n",
    "        if counter == 2:\n",
    "            annotation = \"known junction\"\n",
    "        if counter == 0:\n",
    "            annotation = \"novel\"\n",
    "        table.loc[table.junction==junc,'identified gtf']=annotation\n",
    "        \n",
    "        "
   ]
  },
  {
   "cell_type": "code",
   "execution_count": 77,
   "metadata": {},
   "outputs": [],
   "source": [
    "\n"
   ]
  },
  {
   "cell_type": "code",
   "execution_count": 103,
   "metadata": {},
   "outputs": [],
   "source": []
  },
  {
   "cell_type": "code",
   "execution_count": null,
   "metadata": {},
   "outputs": [],
   "source": []
  },
  {
   "cell_type": "code",
   "execution_count": 40,
   "metadata": {},
   "outputs": [
    {
     "name": "stdout",
     "output_type": "stream",
     "text": [
      "3 chr11:247448:248776\n",
      "1 chr4:724899:726189\n"
     ]
    }
   ],
   "source": [
    "# table['identified gtf']=pd.NaT\n",
    "\n",
    "# for chr in threeprime.chrom.unique():\n",
    "#     start_intron_5s= fiveprime_sense.loc[fiveprime_sense.chrom==chr]\n",
    "#     end_intron_5as=fiveprime_anti.loc[fiveprime_anti.chrom==chr]\n",
    "#     end_intron_3s= threeprime_sense.loc[threeprime_sense.chrom==chr]\n",
    "#     start_intron_3as=threeprime_sense.loc[threeprime_sense.chrom==chr]\n",
    "#     chr_table=table.loc[table.chrom==chr]\n",
    "#     for junc in chr_table.junction:\n",
    "#         junction=junc.split(':')\n",
    "#         chr=junction[0].replace('chr','')\n",
    "#         start=int(junction[1])\n",
    "#         end=int(junction[2])\n",
    "#         annotation= \"\"\n",
    "#         counter = 0\n",
    "#         # start -> 5', end -> 3'\n",
    "#         if start in start_intron_5s.start_int :\n",
    "#             # sense\n",
    "#             annotation= \"known 5'+\"\n",
    "#             counter = counter +1\n",
    "#         if end in end_intron_5as.start_int:\n",
    "#             # anti sense\n",
    "#             annotation= \"known 5'-\"\n",
    "#             counter = counter +1\n",
    "#         if end in start_intron_3as.start_int:\n",
    "#             # antisense\n",
    "#             annotation= \"known 3'-\"\n",
    "#             counter = counter +1\n",
    "#         if start in end_intron_3s.start_int: ## check maybe -1:\n",
    "#             #sense\n",
    "#             annotation= \"known 3'+\"\n",
    "#             counter = counter +1\n",
    "#         if counter == 2:\n",
    "#             annotation = \"known junction\"\n",
    "#         elif counter == 0:\n",
    "#             annotation = \"novel\"\n",
    "#         else:\n",
    "#             print(counter, junc)\n",
    "#         table.loc[table.junction==junc,'identified gtf']=annotation\n"
   ]
  },
  {
   "cell_type": "code",
   "execution_count": 112,
   "metadata": {},
   "outputs": [
    {
     "data": {
      "text/plain": [
       "[Text(0, 0, '2211'), Text(0, 0, '413'), Text(0, 0, '790')]"
      ]
     },
     "execution_count": 112,
     "metadata": {},
     "output_type": "execute_result"
    },
    {
     "data": {
      "image/png": "[encoded data removed]",
      "text/plain": [
       "<Figure size 432x288 with 1 Axes>"
      ]
     },
     "metadata": {
      "needs_background": "light"
     },
     "output_type": "display_data"
    }
   ],
   "source": [
    "import seaborn as sns\n",
    "plot_table=table.filter(items=[\"intron\",\"identified gtf\",\"strand\"])\n",
    "plot_table.drop_duplicates(inplace=True)\n",
    "ax=sns.histplot(data=plot_table, x='identified gtf',hue='strand',multiple=\"stack\")\n",
    "ax.bar_label(ax.containers[0])"
   ]
  },
  {
   "cell_type": "code",
   "execution_count": 9,
   "metadata": {},
   "outputs": [],
   "source": [
    "# essential gene to sf3b1 #\n",
    "gene_dep=pd.read_csv(\"/home/ls/rachelcw/projects/CRISPR_gene_dependency.csv\")"
   ]
  },
  {
   "cell_type": "code",
   "execution_count": 14,
   "metadata": {},
   "outputs": [
    {
     "name": "stdout",
     "output_type": "stream",
     "text": [
      "Gene(gene_id='ENSG00000165813.12', gene_name='C10orf118', biotype='None', contig='10', start=115880621, end=115933979, strand='-', genome='GRCh37')\n"
     ]
    }
   ],
   "source": [
    "start=115890428\n",
    "end=115890906\n",
    "exons=data.genes_at_locus(contig='10', position=start,end=end)\n",
    "for exon in exons:\n",
    "    print(exon)\n",
    "    "
   ]
  },
  {
   "cell_type": "code",
   "execution_count": null,
   "metadata": {},
   "outputs": [],
   "source": [
    "# # alternative 5/3 prime splice site # #\n",
    "for j in table.junction:\n",
    "    j=j.split(':')\n",
    "    chr=j[0].replace('chr','')\n",
    "    start=int(j[1])\n",
    "    end=int(j[2])\n",
    "    # Find the intron with the desired junction coordinates\n",
    "    \n",
    "    for transcript in data.transcripts(chr):\n",
    "    # Iterate over the exons of the gene\n",
    "        #exons=data.exon_ids_of_gene_id(gene.gene_id)\n",
    "        for exon in transcript.exons:\n",
    "            \n",
    "            print()\n",
    "            # Check if the exon has an alternative 5' splice site\n",
    "            # if exon.start < end + 1:\n",
    "            #     print(f'Exon {exon.id} has an alternative 5\\' splice site')\n",
    "            # # Check if the exon has an alternative 3' splice site\n",
    "            # if exon.end == start - 1:\n",
    "            #     print(f'Exon {exon.id} has an alternative 3\\' splice site')"
   ]
  }
 ],
 "metadata": {
  "kernelspec": {
   "display_name": "bio_sns",
   "language": "python",
   "name": "python3"
  },
  "language_info": {
   "codemirror_mode": {
    "name": "ipython",
    "version": 3
   },
   "file_extension": ".py",
   "mimetype": "text/x-python",
   "name": "python",
   "nbconvert_exporter": "python",
   "pygments_lexer": "ipython3",
   "version": "3.7.12"
  },
  "orig_nbformat": 4,
  "vscode": {
   "interpreter": {
    "hash": "09c864c3accc55c172f1ccd7cebbbda7e215cf87239813b034d31565a8f44a22"
   }
  }
 },
 "nbformat": 4,
 "nbformat_minor": 2
}
