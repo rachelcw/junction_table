{
 "cells": [
  {
   "cell_type": "code",
   "execution_count": 1,
   "metadata": {},
   "outputs": [],
   "source": [
    "import pandas as pd\n",
    "import numpy as np\n",
    "import seaborn as sns\n",
    "import re"
   ]
  },
  {
   "cell_type": "code",
   "execution_count": 2,
   "metadata": {},
   "outputs": [],
   "source": [
    "# # effect size tables # #\n",
    "#FDR - 0.05\n",
    "mcll=pd.read_csv(\"/home/ls/rachelcw/projects/LEAFCUTTER/DS/DS.five_percent/analysis.20230115/fdr0.05/filtered.a4.20230115_effect_sizes.txt\",sep=' ')\n",
    "ucll=pd.read_csv(\"/home/ls/rachelcw/projects/LEAFCUTTER/DS/DS.five_percent/analysis.20230115/fdr0.05/filtered.a6.20230115_effect_sizes.txt\",sep=' ')\n",
    "mucll=pd.read_csv(\"/home/ls/rachelcw/projects/LEAFCUTTER/DS/DS.five_percent/analysis.20230115/fdr0.05/filtered.a2.20230115_effect_sizes.txt\",sep=' ')"
   ]
  },
  {
   "cell_type": "code",
   "execution_count": 13,
   "metadata": {},
   "outputs": [],
   "source": [
    "# # junction column, cll column # #\n",
    "table = pd.merge(mcll[['intron','unmut','mut','deltapsi']],ucll[['intron','unmut','mut','deltapsi']], how='outer')\n",
    "table=pd.merge(table, mucll[['intron','unmut','mut','deltapsi']], how='outer')\n",
    "table['analysis_set'] = None\n",
    "table.loc[table['intron'].isin(mcll['intron']), 'analysis_set'] = 'm'\n",
    "table.loc[table['intron'].isin(ucll['intron']), 'analysis_set'] = 'u'\n",
    "table.loc[table['intron'].isin(mucll['intron']),'analysis_set' ] = 'mu'\n",
    "#table.rename({'intron':'junction'},inplace=True)\n",
    "table[['junction','cluster']]=table['intron'].str.rsplit(':',expand=True,n=1)\n",
    "# table.drop(columns='intron',inplace=True)\n",
    "# table = table.reindex(columns=['junction','analysis_set','cluster'])"
   ]
  },
  {
   "cell_type": "code",
   "execution_count": 4,
   "metadata": {},
   "outputs": [],
   "source": [
    "analysis_table=pd.DataFrame(table[\"intron\"])\n",
    "analysis_table[\"M\"]=np.where(analysis_table[\"intron\"].isin(mcll['intron']),\"1\",\"0\")\n",
    "analysis_table[\"U\"]=np.where(analysis_table[\"intron\"].isin(ucll['intron']),\"1\",\"0\")\n",
    "analysis_table[\"MU\"]=np.where(analysis_table[\"intron\"].isin(mucll['intron']),\"1\",\"0\")\n"
   ]
  },
  {
   "cell_type": "code",
   "execution_count": 14,
   "metadata": {},
   "outputs": [],
   "source": [
    "# # cluster significance # # \n",
    "#FDR - 0.05\n",
    "mcll=pd.read_csv(\"/home/ls/rachelcw/projects/LEAFCUTTER/DS/DS.five_percent/analysis.20230115/fdr0.05/filtered.a4.20230115_cluster_significance.txt\",sep=' ')\n",
    "ucll=pd.read_csv(\"/home/ls/rachelcw/projects/LEAFCUTTER/DS/DS.five_percent/analysis.20230115/fdr0.05/filtered.a6.20230115_cluster_significance.txt\",sep=' ')\n",
    "mucll=pd.read_csv(\"/home/ls/rachelcw/projects/LEAFCUTTER/DS/DS.five_percent/analysis.20230115/fdr0.05/filtered.a2.20230115_cluster_significance.txt\",sep=' ')"
   ]
  },
  {
   "cell_type": "code",
   "execution_count": 15,
   "metadata": {},
   "outputs": [],
   "source": [
    "# merge cluster significance tables #\n",
    "cluster_table=pd.merge(mcll[['cluster','p.adjust']],ucll[['cluster','p.adjust']],on='cluster',how='outer',suffixes=['_m','_u'])\n",
    "cluster_table=cluster_table.merge(mucll[['cluster','p.adjust']],on='cluster',how='outer')\n",
    "cluster_table['cluster']=cluster_table['cluster'].str.rsplit(':',expand=True,n=1)[1]"
   ]
  },
  {
   "cell_type": "code",
   "execution_count": 2,
   "metadata": {},
   "outputs": [
    {
     "ename": "NameError",
     "evalue": "name 'table' is not defined",
     "output_type": "error",
     "traceback": [
      "\u001b[0;31m---------------------------------------------------------------------------\u001b[0m",
      "\u001b[0;31mNameError\u001b[0m                                 Traceback (most recent call last)",
      "\u001b[0;32m<ipython-input-2-ea23e8694902>\u001b[0m in \u001b[0;36m<module>\u001b[0;34m\u001b[0m\n\u001b[1;32m      1\u001b[0m \u001b[0;31m# merge table with cluster table #\u001b[0m\u001b[0;34m\u001b[0m\u001b[0;34m\u001b[0m\u001b[0;34m\u001b[0m\u001b[0m\n\u001b[0;32m----> 2\u001b[0;31m \u001b[0mtable\u001b[0m\u001b[0;34m=\u001b[0m\u001b[0mtable\u001b[0m\u001b[0;34m.\u001b[0m\u001b[0mmerge\u001b[0m\u001b[0;34m(\u001b[0m\u001b[0mcluster_table\u001b[0m\u001b[0;34m,\u001b[0m\u001b[0mhow\u001b[0m\u001b[0;34m=\u001b[0m\u001b[0;34m'left'\u001b[0m\u001b[0;34m,\u001b[0m\u001b[0mon\u001b[0m\u001b[0;34m=\u001b[0m\u001b[0;34m'cluster'\u001b[0m\u001b[0;34m)\u001b[0m\u001b[0;34m\u001b[0m\u001b[0;34m\u001b[0m\u001b[0m\n\u001b[0m",
      "\u001b[0;31mNameError\u001b[0m: name 'table' is not defined"
     ]
    }
   ],
   "source": [
    "# merge table with cluster table #\n",
    "table=table.merge(cluster_table,how='left',on='cluster')"
   ]
  },
  {
   "cell_type": "code",
   "execution_count": 17,
   "metadata": {},
   "outputs": [],
   "source": [
    "# add chrom column #\n",
    "table[\"chrom\"]=table['intron'].str.rsplit(':',expand=True,n=3)[0]\n",
    "table[\"chrom\"]=table[\"chrom\"].str.replace('chr','')"
   ]
  },
  {
   "cell_type": "code",
   "execution_count": 3,
   "metadata": {},
   "outputs": [],
   "source": [
    "## for spot analyzing ##\n",
    "table=pd.read_csv(\"~/projects/SPOT/junction_cluster.csv\")\n"
   ]
  },
  {
   "cell_type": "code",
   "execution_count": 5,
   "metadata": {},
   "outputs": [],
   "source": [
    "# loading gtf file- only protein coding #\n",
    "import pyensembl\n",
    "table['gene_name']=pd.NaT\n",
    "# table['identified']=pd.NaT\n",
    "data = pyensembl.Genome(\n",
    "    reference_name='GRCh37',\n",
    "    annotation_name='my_genome_lab',\n",
    "    gtf_path_or_url='/home/ls/rachelcw/projects/protein_coding.gtf')\n",
    "data.index()\n"
   ]
  },
  {
   "cell_type": "code",
   "execution_count": null,
   "metadata": {},
   "outputs": [],
   "source": [
    "# gene name per junction #\n",
    "for i,j in enumerate(table.junction):\n",
    "    j=j.split(':')\n",
    "    # chr=j[0].replace('chr','')    \n",
    "    chr=j[0]    \n",
    "    start=int(j[1])\n",
    "    end=int(j[2])\n",
    "    gene_name = data.gene_names_at_locus(contig=chr, position=start,end=end)\n",
    "    if gene_name != []:\n",
    "        table.at[i,'gene_name']=gene_name\n",
    "    \n",
    "\n",
    "# table.dropna(subset=['gene_name'], inplace=True)\n"
   ]
  },
  {
   "cell_type": "code",
   "execution_count": 10,
   "metadata": {},
   "outputs": [],
   "source": [
    "# filter out when unmut bigger than mut (deltapsi < 1) #\n",
    "table.rename(columns={'p.adjust':'p.adjust_mu'},inplace=True)\n",
    "table = table[table.deltapsi > 0] # mut-unmut >1"
   ]
  },
  {
   "cell_type": "code",
   "execution_count": 19,
   "metadata": {},
   "outputs": [],
   "source": [
    "# for duplicates juction save only the junction with the highest deltapsi #\n",
    "table=table.sort_values('deltapsi', ascending=False)\n",
    "table.drop_duplicates(subset='intron',keep='first', inplace=True)\n",
    "# table=table.reset_index()"
   ]
  },
  {
   "cell_type": "code",
   "execution_count": 23,
   "metadata": {},
   "outputs": [],
   "source": [
    "# reads count per juction #\n",
    "counts_read=pd.read_csv(\"/home/ls/rachelcw/projects/LEAFCUTTER/lc_20230108/lc_20230108_perind_numers.counts.gz\", sep=' ',compression='gzip')"
   ]
  },
  {
   "cell_type": "code",
   "execution_count": 21,
   "metadata": {},
   "outputs": [],
   "source": [
    "cll_data=pd.read_csv(\"/home/ls/rachelcw/projects/LEAFCUTTER/cll_data.csv\")\n",
    "cll_data=cll_data[cll_data[\"SF3B1_mut\"]==\"Mutated SF3B1\"]\n",
    "m_SF3B1=cll_data[\"key\"].to_list()"
   ]
  },
  {
   "cell_type": "code",
   "execution_count": 25,
   "metadata": {},
   "outputs": [
    {
     "name": "stderr",
     "output_type": "stream",
     "text": [
      "/home/ls/rachelcw/miniconda3/envs/bio_sns/lib/python3.7/site-packages/ipykernel_launcher.py:2: SettingWithCopyWarning: \n",
      "A value is trying to be set on a copy of a slice from a DataFrame.\n",
      "Try using .loc[row_indexer,col_indexer] = value instead\n",
      "\n",
      "See the caveats in the documentation: https://pandas.pydata.org/pandas-docs/stable/user_guide/indexing.html#returning-a-view-versus-a-copy\n",
      "  \n",
      "/home/ls/rachelcw/miniconda3/envs/bio_sns/lib/python3.7/site-packages/pandas/core/frame.py:3718: SettingWithCopyWarning: \n",
      "A value is trying to be set on a copy of a slice from a DataFrame\n",
      "\n",
      "See the caveats in the documentation: https://pandas.pydata.org/pandas-docs/stable/user_guide/indexing.html#returning-a-view-versus-a-copy\n",
      "  self._where(-key, value, inplace=True)\n",
      "/home/ls/rachelcw/miniconda3/envs/bio_sns/lib/python3.7/site-packages/pandas/util/_decorators.py:311: SettingWithCopyWarning: \n",
      "A value is trying to be set on a copy of a slice from a DataFrame\n",
      "\n",
      "See the caveats in the documentation: https://pandas.pydata.org/pandas-docs/stable/user_guide/indexing.html#returning-a-view-versus-a-copy\n",
      "  return func(*args, **kwargs)\n"
     ]
    },
    {
     "data": {
      "text/plain": [
       "<AxesSubplot:xlabel='sf3b1', ylabel='Count'>"
      ]
     },
     "execution_count": 25,
     "metadata": {},
     "output_type": "execute_result"
    },
    {
     "data": {
      "image/png": "[encoded data removed]",
      "text/plain": [
       "<Figure size 432x288 with 1 Axes>"
      ]
     },
     "metadata": {
      "needs_background": "light"
     },
     "output_type": "display_data"
    }
   ],
   "source": [
    "kif11=counts_read[counts_read.index==\"10:94405410:94407969:clu_56835_NA\"]\n",
    "kif11[kif11.loc[kif11.index==\"10:94405410:94407969:clu_56835_NA\"]==0]=pd.NaT\n",
    "kif11.dropna(axis=1,inplace=True)\n",
    "kif11=kif11.T\n",
    "kif11[\"sf3b1\"]=np.where(kif11.index.isin(m_SF3B1),\"M\",\"U\")\n",
    "sns.histplot(kif11.sf3b1)"
   ]
  },
  {
   "cell_type": "code",
   "execution_count": 24,
   "metadata": {},
   "outputs": [],
   "source": [
    "junction_list=table[\"intron\"].str.replace(\"chr\",\"\").values\n",
    "# junction_list=table[\"junction\"].str.replace(\"chr\",\"\").values\n",
    "counts_junction=counts_read.loc[counts_read.index.isin(junction_list)]\n",
    "# # counts_junction=counts_read.loc[counts_read.index.isin(table[\"junction\"])]\n",
    "\n",
    "counts=[np.sum(x) for x in counts_junction.values]\n",
    "counts_table=pd.DataFrame({\"counts\":counts},index=counts_junction.index)\n",
    "# table[\"intron\"]=table[\"intron\"].str.replace(\"chr\",\"\")\n",
    "# table=table.merge(counts_table,how=\"left\",left_on=\"intron\",right_index=True)\n",
    "table=table.merge(counts_table,how=\"left\",left_on=\"junction\",right_index=True)"
   ]
  },
  {
   "cell_type": "code",
   "execution_count": 10,
   "metadata": {},
   "outputs": [],
   "source": [
    "# table.to_csv(\"/home/ls/rachelcw/projects/BIO/table.20230123.csv\",index=0)\n",
    "\n",
    "table_p=pd.read_csv(\"/home/ls/rachelcw/projects/BIO/table.20230123.csv\")"
   ]
  },
  {
   "cell_type": "code",
   "execution_count": 10,
   "metadata": {},
   "outputs": [
    {
     "name": "stderr",
     "output_type": "stream",
     "text": [
      "/home/ls/rachelcw/miniconda3/envs/bio_sns/lib/python3.7/site-packages/IPython/core/interactiveshell.py:3552: DtypeWarning: Columns (0) have mixed types.Specify dtype option on import or set low_memory=False.\n",
      "  exec(code_obj, self.user_global_ns, self.user_ns)\n",
      "/home/ls/rachelcw/miniconda3/envs/bio_sns/lib/python3.7/site-packages/pandas/core/indexing.py:1817: SettingWithCopyWarning: \n",
      "A value is trying to be set on a copy of a slice from a DataFrame.\n",
      "Try using .loc[row_indexer,col_indexer] = value instead\n",
      "\n",
      "See the caveats in the documentation: https://pandas.pydata.org/pandas-docs/stable/user_guide/indexing.html#returning-a-view-versus-a-copy\n",
      "  self._setitem_single_column(loc, value, pi)\n"
     ]
    }
   ],
   "source": [
    "# the junction (event) is identified in GTF (known 5, known 3, known junction, novel), add strand column (+\\-) #\n",
    "fiveprime=pd.read_csv(\"/home/ls/rachelcw/projects/BIO/annontation_code.20221225_fiveprime.bed.gz\", sep='\\t',compression='gzip', header=None,usecols=[0,1,5,8] ,names=['chrom', 'start_int',  'strand','type'])\n",
    "fiveprime['chrom'] = fiveprime['chrom'].astype(str)\n",
    "fiveprime= fiveprime.loc[(fiveprime.type=='protein_coding')]\n",
    "threeprime=pd.read_csv(\"/home/ls/rachelcw/projects/BIO/annontation_code.20221225_threeprime.bed.gz\", sep='\\t',compression='gzip', header=None, usecols=[0,1,5,8] ,names=['chrom', 'start_int',  'strand','type'])\n",
    "threeprime['chrom'] = threeprime['chrom'].astype(str)\n",
    "threeprime= threeprime.loc[(threeprime.type=='protein_coding')]\n",
    "# table['identified_gtf']=pd.NaT\n",
    "table['strand']= pd.NaT\n",
    "table['gene_name']= pd.NaT\n",
    "for chr in fiveprime.chrom.unique():\n",
    "    fiveprime_chr=fiveprime.loc[fiveprime.chrom==chr]\n",
    "    threeprime_chr=threeprime.loc[threeprime.chrom==chr]\n",
    "    chr_table=table.loc[table.chrom==chr]\n",
    "    for junc in chr_table.junction:\n",
    "        junction=junc.split(':')\n",
    "        # chr=junction[0].replace('chr','')\n",
    "        start=int(junction[1])\n",
    "        end=int(junction[2])\n",
    "        identified= \"\"\n",
    "        counter = 0\n",
    "        if fiveprime_chr['start_int'].isin([start]).any():\n",
    "            # identified= \"known 5'\"\n",
    "            counter = counter +1\n",
    "            strand=list(fiveprime_chr.loc[fiveprime_chr.start_int==start,'strand'])[0]\n",
    "            chr_table.loc[chr_table.junction==junc,'strand']=strand\n",
    "            gene_name = data.gene_names_at_locus(contig=chr, position=start,end=end,strand=strand)\n",
    "        elif threeprime_chr['start_int'].isin([end]).any():\n",
    "            # identified= \"known 3'\"\n",
    "            counter = counter +1\n",
    "            strand=list(threeprime_chr.loc[threeprime_chr.start_int==end,'strand'])[0]\n",
    "            chr_table.loc[chr_table.junction==junc,'strand']= strand\n",
    "            gene_name = data.gene_names_at_locus(contig=chr, position=start,end=end,strand=strand)\n",
    "        else:\n",
    "            gene_name=data.gene_names_at_locus(contig=chr, position=start,end=end)\n",
    "        if gene_name != []:\n",
    "            chr_table.loc[chr_table.junction==junc,'gene_name']=','.join(gene_name)\n",
    "    chr_table.to_csv(f'/home/ls/rachelcw/projects/SPOT/genename_chr{chr}.csv',index=0)\n",
    "        # if counter == 2:\n",
    "        #     identified = \"known junction\"\n",
    "        # if counter == 0:\n",
    "        #     identified = \"novel\"\n",
    "        # table.loc[table.junction==junc,'identified_gtf']=identified\n",
    "          "
   ]
  },
  {
   "cell_type": "code",
   "execution_count": 53,
   "metadata": {},
   "outputs": [],
   "source": [
    "### only table ###\n",
    "table=table.reset_index(drop=True)\n",
    "table[\"gene_by_strand\"]= pd.NaT\n",
    "for i,j in zip(table[\"junction\"].index,table[\"junction\"]):\n",
    "    j=j.split(':')\n",
    "    chr=j[0].replace('chr','')\n",
    "    start=int(j[1])\n",
    "    end=int(j[2])\n",
    "    strand=table[\"strand\"].iloc[i]\n",
    "    if strand is pd.NaT:\n",
    "        gene_name=data.gene_names_at_locus(contig=chr, position=start,end=end)\n",
    "    else:\n",
    "        gene_name = data.gene_names_at_locus(contig=chr, position=start,end=end,strand=strand)\n",
    "    if gene_name != []:\n",
    "        table.at[i,'gene_by_strand']=','.join(gene_name)\n",
    "    "
   ]
  },
  {
   "cell_type": "code",
   "execution_count": 54,
   "metadata": {},
   "outputs": [],
   "source": [
    "cluster_genes=table.filter(items=[\"intron\",\"junction\", \"cluster\", \"chrom\",\"strand\",\"gene_by_strand\"])\n",
    "cluster_genes.dropna(subset=['gene_by_strand'], inplace=True)\n"
   ]
  },
  {
   "cell_type": "code",
   "execution_count": 55,
   "metadata": {},
   "outputs": [],
   "source": [
    "cluster_genes.to_csv(\"/home/ls/rachelcw/projects/SPOT/cluster_genes.csv\", index=False)"
   ]
  },
  {
   "cell_type": "code",
   "execution_count": 59,
   "metadata": {},
   "outputs": [
    {
     "data": {
      "text/plain": [
       "[Text(0, 0, '412'), Text(0, 0, '788'), Text(0, 0, '2208')]"
      ]
     },
     "execution_count": 59,
     "metadata": {},
     "output_type": "execute_result"
    },
    {
     "data": {
      "image/png": "[encoded data removed]",
      "text/plain": [
       "<Figure size 432x288 with 1 Axes>"
      ]
     },
     "metadata": {
      "needs_background": "light"
     },
     "output_type": "display_data"
    }
   ],
   "source": [
    "plot_table=table.filter(items=[\"intron\",\"identified_gtf\",\"strand\"])\n",
    "# plot_table.drop_duplicates(inplace=True)\n",
    "ax=sns.histplot(data=plot_table, x='identified_gtf',hue='strand',multiple=\"stack\")\n",
    "# ax=sns.histplot(data=plot_table, x='identified gtf')\n",
    "ax.bar_label(ax.containers[0])"
   ]
  },
  {
   "cell_type": "code",
   "execution_count": null,
   "metadata": {},
   "outputs": [],
   "source": [
    "table[\"cluster\"].value_counts().value_counts()"
   ]
  },
  {
   "cell_type": "code",
   "execution_count": 60,
   "metadata": {},
   "outputs": [],
   "source": [
    "# table of 5/3 known events #\n",
    "table_altss=table[table[\"identified_gtf\"].str.contains(\"\\d\")]"
   ]
  },
  {
   "cell_type": "code",
   "execution_count": 61,
   "metadata": {},
   "outputs": [],
   "source": [
    "table_altss=table_altss.reset_index(drop=True)\n",
    "table_altss[\"gene_by_strand\"]= pd.NaT\n",
    "for i,j in zip(table_altss[\"junction\"].index,table_altss[\"junction\"]):\n",
    "    j=j.split(':')\n",
    "    chr=j[0].replace('chr','')\n",
    "    start=int(j[1])\n",
    "    end=int(j[2])\n",
    "    strand=table_altss[\"strand\"].iloc[i]\n",
    "    gene_name = data.gene_names_at_locus(contig=chr, position=start,end=end,strand=strand)\n",
    "    table_altss.at[i,'gene_by_strand']=gene_name\n",
    "    "
   ]
  },
  {
   "cell_type": "code",
   "execution_count": 62,
   "metadata": {},
   "outputs": [],
   "source": [
    "# annotation column #\n",
    "table_altss['annotation']=pd.NaT\n",
    "table_altss['donor/acceptor']=pd.NaT\n",
    "\n",
    "# alternative 5 / 3 splice site- known only one prime\n",
    "# known 3' #\n",
    "condition = re.compile(\"3\")\n",
    "table_altss.loc[table_altss['identified_gtf'].str.contains(condition),'donor/acceptor']=\"donor\"\n",
    "table_altss.loc[(table_altss['identified_gtf'].str.contains(condition))&(table_altss['strand'].str.contains(\"\\\\+\")),'annotation']=\"A5SS\"\n",
    "table_altss.loc[(table_altss['identified_gtf'].str.contains(condition))&(table_altss['strand'].str.contains(\"-\")),'annotation']=\"A3SS\"\n",
    "\n",
    "# known 5' #\n",
    "condition = re.compile(\"5\")\n",
    "table_altss.loc[table_altss['identified_gtf'].str.contains(condition),'donor/acceptor']=\"acceptor\"\n",
    "table_altss.loc[(table_altss['identified_gtf'].str.contains(condition))&(table_altss['strand'].str.contains(\"\\\\+\")),'annotation']=\"A3SS\" \n",
    "table_altss.loc[(table_altss['identified_gtf'].str.contains(condition))&(table_altss['strand'].str.contains(\"-\")),'annotation']=\"A5SS\" \n",
    "\n",
    "\n"
   ]
  },
  {
   "cell_type": "code",
   "execution_count": 63,
   "metadata": {},
   "outputs": [],
   "source": [
    "# frameshift #\n",
    "table_altss['frameshift']=pd.NaT\n",
    "table_altss['length_junction']=pd.NaT\n",
    "for junc in table_altss.junction:\n",
    "    junction=junc.split(':')\n",
    "    start=int(junction[1])\n",
    "    end=int(junction[2])\n",
    "    size=end-start\n",
    "    if size%3==0:\n",
    "        table_altss.loc[table_altss.junction==junc,'frameshift']=\"0\"\n",
    "    else:\n",
    "        table_altss.loc[table_altss.junction==junc,'frameshift']=\"1\"\n",
    "    table_altss.loc[table_altss.junction==junc,'length_junction']=size\n",
    "table_altss['frameshift'].value_counts()\n",
    "# table of no frameshift events #\n",
    "no_frameshift=table_altss[table_altss[\"frameshift\"].str.contains(\"0\")]"
   ]
  },
  {
   "cell_type": "code",
   "execution_count": 64,
   "metadata": {},
   "outputs": [],
   "source": [
    "# essential gene #\n",
    "# gene_dep=pd.read_csv(\"/home/ls/rachelcw/projects/CRISPR_gene_dependency.csv\")\n",
    "essential_gene=pd.read_csv(\"/home/ls/rachelcw/projects/CRISPRInferredCommonEssentials.csv\")\n",
    "pattern=re.compile(\"\\\\(*\\d*\\\\)\")\n",
    "essential_gene[\"Essentials\"]=essential_gene[\"Essentials\"].str.replace(pattern,'')\n",
    "essential_gene[\"Essentials\"]=essential_gene[\"Essentials\"].str.replace(\" \",'')\n",
    "essential_gene_list=essential_gene[\"Essentials\"].to_list()"
   ]
  },
  {
   "cell_type": "code",
   "execution_count": 65,
   "metadata": {},
   "outputs": [
    {
     "name": "stderr",
     "output_type": "stream",
     "text": [
      "/home/ls/rachelcw/miniconda3/envs/bio_sns/lib/python3.7/site-packages/ipykernel_launcher.py:1: SettingWithCopyWarning: \n",
      "A value is trying to be set on a copy of a slice from a DataFrame.\n",
      "Try using .loc[row_indexer,col_indexer] = value instead\n",
      "\n",
      "See the caveats in the documentation: https://pandas.pydata.org/pandas-docs/stable/user_guide/indexing.html#returning-a-view-versus-a-copy\n",
      "  \"\"\"Entry point for launching an IPython kernel.\n",
      "/home/ls/rachelcw/miniconda3/envs/bio_sns/lib/python3.7/site-packages/pandas/core/indexing.py:1817: SettingWithCopyWarning: \n",
      "A value is trying to be set on a copy of a slice from a DataFrame.\n",
      "Try using .loc[row_indexer,col_indexer] = value instead\n",
      "\n",
      "See the caveats in the documentation: https://pandas.pydata.org/pandas-docs/stable/user_guide/indexing.html#returning-a-view-versus-a-copy\n",
      "  self._setitem_single_column(loc, value, pi)\n"
     ]
    }
   ],
   "source": [
    "no_frameshift[\"essential\"]=pd.NaT\n",
    "for i,gene in zip(no_frameshift[\"gene_by_strand\"].index,no_frameshift[\"gene_by_strand\"]):\n",
    "    esn=\"\"\n",
    "    if len(gene)>1:\n",
    "        no_frameshift.loc[i,\"essential\"]=\"check\"\n",
    "    else:\n",
    "        \n",
    "        if gene[0] in essential_gene_list:\n",
    "            no_frameshift.loc[i,\"essential\"]=\"1\"\n",
    "        else:\n",
    "            no_frameshift.loc[i,\"essential\"]=\"0\""
   ]
  },
  {
   "cell_type": "code",
   "execution_count": 66,
   "metadata": {},
   "outputs": [
    {
     "data": {
      "text/plain": [
       "[Text(0, 0, '120'), Text(0, 0, '673'), Text(0, 0, '30')]"
      ]
     },
     "execution_count": 66,
     "metadata": {},
     "output_type": "execute_result"
    },
    {
     "data": {
      "image/png": "[encoded data removed]",
      "text/plain": [
       "<Figure size 432x288 with 1 Axes>"
      ]
     },
     "metadata": {
      "needs_background": "light"
     },
     "output_type": "display_data"
    }
   ],
   "source": [
    "ax=sns.histplot(data=no_frameshift, x='essential')\n",
    "ax.bar_label(ax.containers[0])"
   ]
  },
  {
   "cell_type": "code",
   "execution_count": 26,
   "metadata": {},
   "outputs": [],
   "source": [
    "essential_no_frameshift=no_frameshift[no_frameshift[\"essential\"].str.contains(\"1\")]\n",
    "# essential_no_frameshift=essential_no_frameshift.drop(columns=[\"index\",\"level_0\"])"
   ]
  },
  {
   "cell_type": "code",
   "execution_count": null,
   "metadata": {},
   "outputs": [],
   "source": [
    "check_no_frameshift=no_frameshift[no_frameshift[\"essential\"].str.contains(\"check\")]\n"
   ]
  },
  {
   "cell_type": "code",
   "execution_count": 26,
   "metadata": {},
   "outputs": [
    {
     "data": {
      "image/png": "[encoded data removed]",
      "text/plain": [
       "<Figure size 432x288 with 1 Axes>"
      ]
     },
     "metadata": {
      "needs_background": "light"
     },
     "output_type": "display_data"
    }
   ],
   "source": [
    "ax=sns.histplot(data=essential_no_frameshift, x='annotation')"
   ]
  },
  {
   "cell_type": "code",
   "execution_count": null,
   "metadata": {},
   "outputs": [],
   "source": [
    "sns.barplot(x=gene_dep.mean())\n",
    "# ax=sns.distplot(gene_dep.mean())"
   ]
  },
  {
   "cell_type": "code",
   "execution_count": 32,
   "metadata": {},
   "outputs": [],
   "source": [
    "exons=pd.read_csv(\"/private1/private/resources/bedfile_from_gtf/annontation_code.20221225_all_exons.txt.gz\", sep='\\t',compression='gzip')"
   ]
  },
  {
   "cell_type": "code",
   "execution_count": null,
   "metadata": {},
   "outputs": [],
   "source": [
    "# skipped exon #\n",
    "condition = re.compile(\"known junction\")\n",
    "index=table[table['identified gtf'].str.contains(condition)].index\n",
    "table_known=table.loc[index]\n",
    "\n",
    "# exon=pd.read_csv(\"/private1/private/resources/bedfile_from_gtf/annontation_code.20221225_all_exons.txt.gz\",sep='\\t',compression='gzip')\n",
    "for j in table_known.junction:\n",
    "    junction=junc.split(':')\n",
    "    chr=junction[0].replace('chr','')\n",
    "    start=int(junction[1])\n",
    "    end=int(junction[2])\n",
    "    annotation=\"\"\n",
    "    for exon in data.exons_at_locus(chr,start,end=end):\n",
    "\n"
   ]
  },
  {
   "cell_type": "code",
   "execution_count": 27,
   "metadata": {},
   "outputs": [],
   "source": [
    "percent= pd.read_csv(\"/home/ls/rachelcw/projects/LEAFCUTTER/lc_20230108/lc_20230108_perind.percent.csv\")"
   ]
  }
 ],
 "metadata": {
  "kernelspec": {
   "display_name": "bio_sns",
   "language": "python",
   "name": "python3"
  },
  "language_info": {
   "codemirror_mode": {
    "name": "ipython",
    "version": 3
   },
   "file_extension": ".py",
   "mimetype": "text/x-python",
   "name": "python",
   "nbconvert_exporter": "python",
   "pygments_lexer": "ipython3",
   "version": "3.7.12"
  },
  "orig_nbformat": 4,
  "vscode": {
   "interpreter": {
    "hash": "09c864c3accc55c172f1ccd7cebbbda7e215cf87239813b034d31565a8f44a22"
   }
  }
 },
 "nbformat": 4,
 "nbformat_minor": 2
}
