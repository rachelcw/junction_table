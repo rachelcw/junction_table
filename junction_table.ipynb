{
 "cells": [
  {
   "cell_type": "code",
   "execution_count": 1,
   "metadata": {},
   "outputs": [],
   "source": [
    "import pandas as pd\n",
    "import numpy as np"
   ]
  },
  {
   "cell_type": "code",
   "execution_count": 26,
   "metadata": {},
   "outputs": [],
   "source": [
    "# # effect size tables # #\n",
    "#FDR - 0.05\n",
    "mcll=pd.read_csv(\"/home/ls/rachelcw/projects/LEAFCUTTER/DS/DS.five_percent/filtered.a4.20221226_effect_sizes.txt\",sep=' ')\n",
    "ucll=pd.read_csv(\"/home/ls/rachelcw/projects/LEAFCUTTER/DS/DS.five_percent/filtered.a6.20221226_effect_sizes.txt\",sep=' ')\n",
    "mucll=pd.read_csv(\"/home/ls/rachelcw/projects/LEAFCUTTER/DS/DS.five_percent/filtered.a2.20221226_effect_sizes.txt\",sep=' ')"
   ]
  },
  {
   "cell_type": "code",
   "execution_count": 27,
   "metadata": {},
   "outputs": [],
   "source": [
    "# # junction column, cll column # #\n",
    "table = pd.merge(mcll[['intron','unmut','mut','deltapsi']],ucll[['intron','unmut','mut','deltapsi']], how='outer')\n",
    "table=pd.merge(table, mucll[['intron','unmut','mut','deltapsi']], how='outer')\n",
    "table['analysis_set'] = None\n",
    "table.loc[table['intron'].isin(mcll['intron']), 'analysis_set'] = 'm'\n",
    "table.loc[table['intron'].isin(ucll['intron']), 'analysis_set'] = 'u'\n",
    "table.loc[table['intron'].isin(mucll['intron']),'analysis_set' ] = 'mu'\n",
    "#table.rename({'intron':'junction'},inplace=True)\n",
    "table[['junction','cluster']]=table['intron'].str.rsplit(':',expand=True,n=1)\n",
    "# table.drop(columns='intron',inplace=True)\n",
    "# table = table.reindex(columns=['junction','analysis_set','cluster'])"
   ]
  },
  {
   "cell_type": "code",
   "execution_count": 28,
   "metadata": {},
   "outputs": [],
   "source": [
    "# # cluster significance # # \n",
    "#FDR - 0.05\n",
    "mcll=pd.read_csv(\"/home/ls/rachelcw/projects/LEAFCUTTER/DS/DS.five_percent/filtered.a4.20221226_cluster_significance.txt\",sep=' ')\n",
    "ucll=pd.read_csv(\"/home/ls/rachelcw/projects/LEAFCUTTER/DS/DS.five_percent/filtered.a6.20221226_cluster_significance.txt\",sep=' ')\n",
    "mucll=pd.read_csv(\"/home/ls/rachelcw/projects/LEAFCUTTER/DS/DS.five_percent/filtered.a2.20221226_cluster_significance.txt\",sep=' ')"
   ]
  },
  {
   "cell_type": "code",
   "execution_count": 29,
   "metadata": {},
   "outputs": [],
   "source": [
    "\n",
    "cluster_table=pd.merge(mcll[['cluster','p.adjust']],ucll[['cluster','p.adjust']],on='cluster',how='outer',suffixes=['_m','_u'])\n",
    "cluster_table=cluster_table.merge(mucll[['cluster','p.adjust']],on='cluster',how='outer',suffixes=['_mu'])\n",
    "cluster_table['cluster']=cluster_table['cluster'].str.rsplit(':',expand=True,n=1)[1]"
   ]
  },
  {
   "cell_type": "code",
   "execution_count": 30,
   "metadata": {},
   "outputs": [],
   "source": [
    "table=table.merge(cluster_table,how='left',on='cluster')"
   ]
  },
  {
   "cell_type": "code",
   "execution_count": 23,
   "metadata": {},
   "outputs": [],
   "source": []
  },
  {
   "cell_type": "code",
   "execution_count": 31,
   "metadata": {},
   "outputs": [],
   "source": [
    "# gene name\n",
    "import pyensembl\n",
    "table['gene_name']=pd.NaT\n",
    "data = pyensembl.Genome(\n",
    "    reference_name='GRCh37',\n",
    "    annotation_name='my_genome_lab',\n",
    "    gtf_path_or_url='/private1/private/resources/gencode19_noChrPrefix_mitoMT.gtf')\n",
    "data.index()\n",
    "#data=pyensembl.EnsemblRelease(74)\n",
    "for i,j in enumerate(table.junction):\n",
    "    j=j.split(':')\n",
    "    chr=j[0].replace('chr','')\n",
    "    start=int(j[1])\n",
    "    end=int(j[2])\n",
    "    gene_name = data.gene_names_at_locus(contig=chr, position=start,end=end)\n",
    "    if gene_name != []:\n",
    "        table.at[i,'gene_name']=gene_name\n",
    "    \n",
    "\n",
    "table.dropna(subset=['gene_name'], inplace=True)\n"
   ]
  },
  {
   "cell_type": "code",
   "execution_count": 32,
   "metadata": {},
   "outputs": [],
   "source": [
    "# filter out when unmut bigger than mut (deltapsi < 1) #\n",
    "table = table[table.deltapsi > 0] # mut-unmut >1"
   ]
  },
  {
   "cell_type": "code",
   "execution_count": null,
   "metadata": {},
   "outputs": [],
   "source": [
    "# # alternative 5/3 prime splice site # #\n",
    "for j in table.junction:\n",
    "    j=j.split(':')\n",
    "    chr=j[0].replace('chr','')\n",
    "    start=int(j[1])\n",
    "    end=int(j[2])\n",
    "    # Find the intron with the desired junction coordinates\n",
    "    for transcript in data.transcripts(chr):\n",
    "    # Iterate over the exons of the gene\n",
    "        #exons=data.exon_ids_of_gene_id(gene.gene_id)\n",
    "        for exon in transcript.exons:\n",
    "            exon.overlaps_locus\n",
    "            # Check if the exon has an alternative 5' splice site\n",
    "            # if exon.start < end + 1:\n",
    "            #     print(f'Exon {exon.id} has an alternative 5\\' splice site')\n",
    "            # # Check if the exon has an alternative 3' splice site\n",
    "            # if exon.end == start - 1:\n",
    "            #     print(f'Exon {exon.id} has an alternative 3\\' splice site')\n",
    "            break"
   ]
  }
 ],
 "metadata": {
  "kernelspec": {
   "display_name": "bio",
   "language": "python",
   "name": "python3"
  },
  "language_info": {
   "codemirror_mode": {
    "name": "ipython",
    "version": 3
   },
   "file_extension": ".py",
   "mimetype": "text/x-python",
   "name": "python",
   "nbconvert_exporter": "python",
   "pygments_lexer": "ipython3",
   "version": "3.7.12 | packaged by conda-forge | (default, Oct 26 2021, 06:08:21) \n[GCC 9.4.0]"
  },
  "orig_nbformat": 4,
  "vscode": {
   "interpreter": {
    "hash": "92e46c1ed4a7e04e80a6b0b61ecc0d4e81522e8537a1175f3140b6d66522f4d7"
   }
  }
 },
 "nbformat": 4,
 "nbformat_minor": 2
}
