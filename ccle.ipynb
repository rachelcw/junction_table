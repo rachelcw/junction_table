{
 "cells": [
  {
   "cell_type": "code",
   "execution_count": 1,
   "metadata": {},
   "outputs": [
    {
     "name": "stdout",
     "output_type": "stream",
     "text": [
      "Sample set \"rna\" (1025 samples) successfully updated.\n"
     ]
    }
   ],
   "source": [
    "import dalmatian\n",
    "wm = dalmatian.WorkspaceManager(\"IUCC-KNISLAB/CCLE_v2\")\n",
    "wm_samps = wm.get_samples()\n",
    "rna_samps = wm_samps[wm_samps['hg38_rna_bam'].notna()].copy()\n",
    "wm.update_sample_set('rna', rna_samps.index.to_list())"
   ]
  },
  {
   "cell_type": "code",
   "execution_count": 2,
   "metadata": {},
   "outputs": [
    {
     "name": "stdout",
     "output_type": "stream",
     "text": [
      "Successfully created submission 5beaa61f-71ef-4269-838c-cd02a74e1ddc.\n"
     ]
    },
    {
     "data": {
      "text/plain": [
       "'5beaa61f-71ef-4269-838c-cd02a74e1ddc'"
      ]
     },
     "execution_count": 2,
     "metadata": {},
     "output_type": "execute_result"
    }
   ],
   "source": [
    "wm.create_submission(\"IUCC-KNISLAB/leafcutter_bam_to_junc\", 'rna', 'sample_set', expression='this.samples', use_callcache=True)"
   ]
  }
 ],
 "metadata": {
  "kernelspec": {
   "display_name": "ccle",
   "language": "python",
   "name": "python3"
  },
  "language_info": {
   "codemirror_mode": {
    "name": "ipython",
    "version": 3
   },
   "file_extension": ".py",
   "mimetype": "text/x-python",
   "name": "python",
   "nbconvert_exporter": "python",
   "pygments_lexer": "ipython3",
   "version": "3.9.16 (main, Jan 11 2023, 16:05:54) \n[GCC 11.2.0]"
  },
  "orig_nbformat": 4,
  "vscode": {
   "interpreter": {
    "hash": "b39d847af671e45a7b6cac5290bfc65daa63705f7dfbafdf1e35817fd93a8a41"
   }
  }
 },
 "nbformat": 4,
 "nbformat_minor": 2
}
