{
 "cells": [
  {
   "cell_type": "code",
   "execution_count": 1,
   "metadata": {},
   "outputs": [],
   "source": [
    "from liftover import ChainFile"
   ]
  },
  {
   "cell_type": "code",
   "execution_count": 6,
   "metadata": {},
   "outputs": [
    {
     "data": {
      "text/plain": [
       "liftover(b'37'->b'hg38')"
      ]
     },
     "execution_count": 6,
     "metadata": {},
     "output_type": "execute_result"
    }
   ],
   "source": [
    "converter = ChainFile(\"/private1/private/resources/b37ToHg38.over.chain\", '37', 'hg38')\n",
    "converter"
   ]
  }
 ],
 "metadata": {
  "kernelspec": {
   "display_name": "liftover",
   "language": "python",
   "name": "python3"
  },
  "language_info": {
   "codemirror_mode": {
    "name": "ipython",
    "version": 3
   },
   "file_extension": ".py",
   "mimetype": "text/x-python",
   "name": "python",
   "nbconvert_exporter": "python",
   "pygments_lexer": "ipython3",
   "version": "3.10.4 (main, Mar 31 2022, 08:41:55) [GCC 7.5.0]"
  },
  "orig_nbformat": 4,
  "vscode": {
   "interpreter": {
    "hash": "ee61e1448ab5cdea6697538882c521ea7d06f95d0ffa7595406718e9ef6ceb13"
   }
  }
 },
 "nbformat": 4,
 "nbformat_minor": 2
}
