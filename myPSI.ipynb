{
 "cells": [
  {
   "cell_type": "code",
   "execution_count": 20,
   "metadata": {},
   "outputs": [],
   "source": [
    "import pandas as pd\n",
    "import numpy as np\n",
    "import seaborn as sns\n",
    "import re"
   ]
  },
  {
   "cell_type": "code",
   "execution_count": 72,
   "metadata": {},
   "outputs": [],
   "source": [
    "# my deltapsi- scatterplot : lc deltapsi vs. my deltapsi #\n",
    "# table = table[table.deltapsi > 0] # mut-unmut >1\n",
    "mucll=pd.read_csv(\"/home/ls/rachelcw/projects/LEAFCUTTER/mean_std_junction/deltapsi_analysis2.csv\", usecols=[0,5])\n",
    "mucll[\"deltapsi\"]= mucll[\"deltapsi\"].astype(float)\n",
    "mucll = mucll[mucll.deltapsi > 0]\n",
    "ucll=pd.read_csv(\"/home/ls/rachelcw/projects/LEAFCUTTER/mean_std_junction/deltapsi_analysis6.csv\", usecols=[0,5])\n",
    "ucll[\"deltapsi\"]= ucll[\"deltapsi\"].astype(float)\n",
    "ucll = ucll[ucll.deltapsi > 0]\n",
    "mcll=pd.read_csv(\"/home/ls/rachelcw/projects/LEAFCUTTER/mean_std_junction/deltapsi_analysis4.csv\", usecols=[0,5])\n",
    "mcll[\"deltapsi\"]= mcll[\"deltapsi\"].astype(float)\n",
    "mcll = mcll[mcll.deltapsi > 0]"
   ]
  },
  {
   "cell_type": "code",
   "execution_count": 73,
   "metadata": {},
   "outputs": [
    {
     "name": "stderr",
     "output_type": "stream",
     "text": [
      "/home/ls/rachelcw/miniconda3/envs/bio_sns/lib/python3.7/site-packages/ipykernel_launcher.py:3: FutureWarning: Dropping of nuisance columns in DataFrame reductions (with 'numeric_only=None') is deprecated; in a future version this will raise TypeError.  Select only valid columns before calling the reduction.\n",
      "  This is separate from the ipykernel package so we can avoid doing imports until\n"
     ]
    }
   ],
   "source": [
    "table = pd.merge(mcll,ucll, how='outer',on=\"junction\",suffixes=[\"_m\",\"_u\"])\n",
    "table=pd.merge(table, mucll, how='outer',on=\"junction\")\n",
    "table[\"max_deltapsi\"]=table.max(axis=\"columns\")"
   ]
  },
  {
   "cell_type": "code",
   "execution_count": 74,
   "metadata": {},
   "outputs": [],
   "source": [
    "table = table[table.max_deltapsi > 0]\n",
    "table=table.sort_values('deltapsi', ascending=False)\n",
    "table.drop_duplicates(subset='junction',keep='first', inplace=True)\n",
    "table[\"junction\"]=table[\"junction\"].str.replace('chr','')\n",
    "table=table.filter(items=[\"junction\",\"max_deltapsi\"])\n"
   ]
  },
  {
   "cell_type": "code",
   "execution_count": 61,
   "metadata": {},
   "outputs": [],
   "source": [
    "# # effect size tables # #\n",
    "#FDR - 0.05\n",
    "mcll=pd.read_csv(\"/home/ls/rachelcw/projects/LEAFCUTTER/DS/DS.five_percent/analysis.20230115/fdr0.05/filtered.a4.20230115_effect_sizes.txt\",sep=' ')\n",
    "ucll=pd.read_csv(\"/home/ls/rachelcw/projects/LEAFCUTTER/DS/DS.five_percent/analysis.20230115/fdr0.05/filtered.a6.20230115_effect_sizes.txt\",sep=' ')\n",
    "mucll=pd.read_csv(\"/home/ls/rachelcw/projects/LEAFCUTTER/DS/DS.five_percent/analysis.20230115/fdr0.05/filtered.a2.20230115_effect_sizes.txt\",sep=' ')\n",
    "\n",
    "table_lc = pd.merge(mcll[['intron','unmut','mut','deltapsi']],ucll[['intron','unmut','mut','deltapsi']], how='outer')\n",
    "table_lc=pd.merge(table_lc, mucll[['intron','unmut','mut','deltapsi']], how='outer')\n",
    "table_lc=table_lc.sort_values('deltapsi', ascending=False)\n",
    "table_lc.drop_duplicates(subset='intron',keep='first', inplace=True)\n",
    "table_lc[\"intron\"]=table_lc[\"intron\"].str.replace(\"chr\",\"\")\n",
    "table_lc=table_lc[table_lc.deltapsi > 0]"
   ]
  },
  {
   "cell_type": "code",
   "execution_count": 69,
   "metadata": {},
   "outputs": [
    {
     "data": {
      "text/html": [
       "<div>\n",
       "<style scoped>\n",
       "    .dataframe tbody tr th:only-of-type {\n",
       "        vertical-align: middle;\n",
       "    }\n",
       "\n",
       "    .dataframe tbody tr th {\n",
       "        vertical-align: top;\n",
       "    }\n",
       "\n",
       "    .dataframe thead th {\n",
       "        text-align: right;\n",
       "    }\n",
       "</style>\n",
       "<table border=\"1\" class=\"dataframe\">\n",
       "  <thead>\n",
       "    <tr style=\"text-align: right;\">\n",
       "      <th></th>\n",
       "      <th>max_deltapsi</th>\n",
       "      <th>deltapsi</th>\n",
       "    </tr>\n",
       "  </thead>\n",
       "  <tbody>\n",
       "    <tr>\n",
       "      <th>max_deltapsi</th>\n",
       "      <td>1.000000</td>\n",
       "      <td>0.681219</td>\n",
       "    </tr>\n",
       "    <tr>\n",
       "      <th>deltapsi</th>\n",
       "      <td>0.681219</td>\n",
       "      <td>1.000000</td>\n",
       "    </tr>\n",
       "  </tbody>\n",
       "</table>\n",
       "</div>"
      ],
      "text/plain": [
       "              max_deltapsi  deltapsi\n",
       "max_deltapsi      1.000000  0.681219\n",
       "deltapsi          0.681219  1.000000"
      ]
     },
     "execution_count": 69,
     "metadata": {},
     "output_type": "execute_result"
    },
    {
     "data": {
      "image/png": "[encoded data removed]",
      "text/plain": [
       "<Figure size 432x288 with 1 Axes>"
      ]
     },
     "metadata": {
      "needs_background": "light"
     },
     "output_type": "display_data"
    }
   ],
   "source": [
    "scatter_table=table.merge(table_lc.filter(items=[\"intron\",\"deltapsi\"]),how=\"inner\",left_on=\"junction\", right_on=\"intron\",indicator=True)\n",
    "scatter_table.dropna(axis=0,inplace=True)\n",
    "sns.scatterplot(x=scatter_table[\"max_deltapsi\"],y=scatter_table[\"deltapsi\"])\n",
    "scatter_table.drop(columns=[\"intron\",\"_merge\"], inplace=True)\n",
    "scatter_table.set_index(\"junction\")\n",
    "scatter_table.corr(method=\"spearman\")"
   ]
  },
  {
   "cell_type": "code",
   "execution_count": 75,
   "metadata": {},
   "outputs": [],
   "source": [
    "table=table.filter(items=[\"junction\",\"max_deltapsi\"])\n",
    "table.rename(columns={\"junction\":\"intron\",\"max_deltapsi\":\"deltapsi\"},inplace=True)\n",
    "table[['junction','cluster']]=table['intron'].str.rsplit(':',expand=True,n=1)"
   ]
  },
  {
   "cell_type": "code",
   "execution_count": 76,
   "metadata": {},
   "outputs": [],
   "source": [
    "table[\"chrom\"]=table['intron'].str.rsplit(':',expand=True,n=3)[0]\n",
    "# table[\"chrom\"]=table[\"chrom\"].str.replace('chr','')"
   ]
  },
  {
   "cell_type": "code",
   "execution_count": 77,
   "metadata": {},
   "outputs": [],
   "source": [
    "# loading gtf file- only protein coding #\n",
    "import pyensembl\n",
    "table['gene_name']=pd.NaT\n",
    "# table['identified']=pd.NaT\n",
    "data = pyensembl.Genome(\n",
    "    reference_name='GRCh37',\n",
    "    annotation_name='my_genome_lab',\n",
    "    gtf_path_or_url='/home/ls/rachelcw/projects/protein_coding.gtf')\n",
    "data.index()\n",
    "\n",
    "# gene name per junction #\n",
    "for i,j in enumerate(table.junction):\n",
    "    j=j.split(':')\n",
    "    chr=j[0].replace('chr','')\n",
    "    start=int(j[1])\n",
    "    end=int(j[2])\n",
    "    gene_name = data.gene_names_at_locus(contig=chr, position=start,end=end)\n",
    "    if gene_name != []:\n",
    "        table.at[i,'gene_name']=gene_name\n",
    "    \n",
    "\n",
    "table.dropna(subset=['gene_name'], inplace=True)"
   ]
  },
  {
   "cell_type": "code",
   "execution_count": 27,
   "metadata": {},
   "outputs": [],
   "source": [
    "# reads count per juction #\n",
    "counts_read=pd.read_csv(\"/home/ls/rachelcw/projects/LEAFCUTTER/lc_20230108/lc_20230108_perind_numers.counts.gz\", sep=' ',compression='gzip')"
   ]
  },
  {
   "cell_type": "code",
   "execution_count": 78,
   "metadata": {},
   "outputs": [],
   "source": [
    "cll_data=pd.read_csv(\"/home/ls/rachelcw/projects/LEAFCUTTER/cll_data.csv\")\n",
    "cll_data=cll_data[cll_data[\"SF3B1_mut\"]==\"Mutated SF3B1\"]"
   ]
  },
  {
   "cell_type": "code",
   "execution_count": 79,
   "metadata": {},
   "outputs": [],
   "source": [
    "junction_list=list(table[\"intron\"])\n",
    "counts_junction=counts_read[counts_read.index.isin(junction_list)]\n",
    "\n",
    "counts=[np.sum(x) for x in counts_junction.values]\n",
    "counts_table=pd.DataFrame({\"counts\":counts},index=counts_junction.index)\n",
    "table=table.merge(counts_table,how=\"left\",left_on=\"intron\",right_index=True)"
   ]
  },
  {
   "cell_type": "code",
   "execution_count": 80,
   "metadata": {},
   "outputs": [
    {
     "name": "stderr",
     "output_type": "stream",
     "text": [
      "/home/ls/rachelcw/miniconda3/envs/bio_sns/lib/python3.7/site-packages/IPython/core/interactiveshell.py:3552: DtypeWarning: Columns (0) have mixed types.Specify dtype option on import or set low_memory=False.\n",
      "  exec(code_obj, self.user_global_ns, self.user_ns)\n"
     ]
    }
   ],
   "source": [
    "# the junction (event) is identified in GTF (known 5, known 3, known junction, novel), add strand column (+\\-) #\n",
    "fiveprime=pd.read_csv(\"/home/ls/rachelcw/projects/BIO/annontation_code.20221225_fiveprime.bed.gz\", sep='\\t',compression='gzip', header=None,usecols=[0,1,5,8] ,names=['chrom', 'start_int',  'strand','type'])\n",
    "fiveprime['chrom'] = fiveprime['chrom'].astype(str)\n",
    "fiveprime= fiveprime.loc[(fiveprime.type=='protein_coding')]\n",
    "threeprime=pd.read_csv(\"/home/ls/rachelcw/projects/BIO/annontation_code.20221225_threeprime.bed.gz\", sep='\\t',compression='gzip', header=None, usecols=[0,1,5,8] ,names=['chrom', 'start_int',  'strand','type'])\n",
    "threeprime['chrom'] = threeprime['chrom'].astype(str)\n",
    "threeprime= threeprime.loc[(threeprime.type=='protein_coding')]\n",
    "table['identified_gtf']=pd.NaT\n",
    "table['strand']= pd.NaT\n",
    "\n",
    "for chr in fiveprime.chrom.unique():\n",
    "    fiveprime_chr=fiveprime.loc[fiveprime.chrom==chr]\n",
    "    threeprime_chr=threeprime.loc[threeprime.chrom==chr]\n",
    "    chr_table=table.loc[table.chrom==chr]\n",
    "    for junc in chr_table.junction:\n",
    "        junction=junc.split(':')\n",
    "        # chr=junction[0].replace('chr','')\n",
    "        start=int(junction[1])\n",
    "        end=int(junction[2])\n",
    "        identified= \"\"\n",
    "        counter = 0\n",
    "        if fiveprime_chr['start_int'].isin([start]).any():\n",
    "            identified= \"known 5'\"\n",
    "            counter = counter +1\n",
    "            strand=list(fiveprime_chr.loc[fiveprime_chr.start_int==start,'strand'])[0]\n",
    "            table.loc[table.junction==junc,'strand']=strand\n",
    "        if threeprime_chr['start_int'].isin([end]).any():\n",
    "            identified= \"known 3'\"\n",
    "            counter = counter +1\n",
    "            strand=list(threeprime_chr.loc[threeprime_chr.start_int==end,'strand'])[0]\n",
    "            table.loc[table.junction==junc,'strand']= strand\n",
    "        if counter == 2:\n",
    "            identified = \"known junction\"\n",
    "        if counter == 0:\n",
    "            identified = \"novel\"\n",
    "        table.loc[table.junction==junc,'identified_gtf']=identified\n",
    "          "
   ]
  },
  {
   "cell_type": "code",
   "execution_count": 31,
   "metadata": {},
   "outputs": [
    {
     "data": {
      "text/plain": [
       "[Text(0, 0, '438'), Text(0, 0, '2158'), Text(0, 0, '848')]"
      ]
     },
     "execution_count": 31,
     "metadata": {},
     "output_type": "execute_result"
    },
    {
     "data": {
      "image/png": "[encoded data removed]",
      "text/plain": [
       "<Figure size 432x288 with 1 Axes>"
      ]
     },
     "metadata": {
      "needs_background": "light"
     },
     "output_type": "display_data"
    }
   ],
   "source": [
    "plot_table=table.filter(items=[\"intron\",\"identified_gtf\",\"strand\"])\n",
    "# plot_table.drop_duplicates(inplace=True)\n",
    "ax=sns.histplot(data=plot_table, x='identified_gtf',hue='strand',multiple=\"stack\")\n",
    "# ax=sns.histplot(data=plot_table, x='identified gtf')\n",
    "ax.bar_label(ax.containers[0])"
   ]
  },
  {
   "cell_type": "code",
   "execution_count": 81,
   "metadata": {},
   "outputs": [],
   "source": [
    "# table of 5/3 known events #\n",
    "# table_altss=table[table[\"identified_gtf\"].str.contains(\"\\d\")]\n",
    "table_altss=table"
   ]
  },
  {
   "cell_type": "code",
   "execution_count": 82,
   "metadata": {},
   "outputs": [
    {
     "ename": "InterfaceError",
     "evalue": "Error binding parameter 3 - probably unsupported type.",
     "output_type": "error",
     "traceback": [
      "\u001b[0;31m---------------------------------------------------------------------------\u001b[0m",
      "\u001b[0;31mInterfaceError\u001b[0m                            Traceback (most recent call last)",
      "\u001b[0;32m<ipython-input-82-8656cf9fbab5>\u001b[0m in \u001b[0;36m<module>\u001b[0;34m\u001b[0m\n\u001b[1;32m      7\u001b[0m     \u001b[0mend\u001b[0m\u001b[0;34m=\u001b[0m\u001b[0mint\u001b[0m\u001b[0;34m(\u001b[0m\u001b[0mj\u001b[0m\u001b[0;34m[\u001b[0m\u001b[0;36m2\u001b[0m\u001b[0;34m]\u001b[0m\u001b[0;34m)\u001b[0m\u001b[0;34m\u001b[0m\u001b[0;34m\u001b[0m\u001b[0m\n\u001b[1;32m      8\u001b[0m     \u001b[0mstrand\u001b[0m\u001b[0;34m=\u001b[0m\u001b[0mtable_altss\u001b[0m\u001b[0;34m[\u001b[0m\u001b[0;34m\"strand\"\u001b[0m\u001b[0;34m]\u001b[0m\u001b[0;34m.\u001b[0m\u001b[0miloc\u001b[0m\u001b[0;34m[\u001b[0m\u001b[0mi\u001b[0m\u001b[0;34m]\u001b[0m\u001b[0;34m\u001b[0m\u001b[0;34m\u001b[0m\u001b[0m\n\u001b[0;32m----> 9\u001b[0;31m     \u001b[0mgene_name\u001b[0m \u001b[0;34m=\u001b[0m \u001b[0mdata\u001b[0m\u001b[0;34m.\u001b[0m\u001b[0mgene_names_at_locus\u001b[0m\u001b[0;34m(\u001b[0m\u001b[0mcontig\u001b[0m\u001b[0;34m=\u001b[0m\u001b[0mchr\u001b[0m\u001b[0;34m,\u001b[0m \u001b[0mposition\u001b[0m\u001b[0;34m=\u001b[0m\u001b[0mstart\u001b[0m\u001b[0;34m,\u001b[0m\u001b[0mend\u001b[0m\u001b[0;34m=\u001b[0m\u001b[0mend\u001b[0m\u001b[0;34m,\u001b[0m\u001b[0mstrand\u001b[0m\u001b[0;34m=\u001b[0m\u001b[0mstrand\u001b[0m\u001b[0;34m)\u001b[0m\u001b[0;34m\u001b[0m\u001b[0;34m\u001b[0m\u001b[0m\n\u001b[0m\u001b[1;32m     10\u001b[0m     \u001b[0mtable_altss\u001b[0m\u001b[0;34m.\u001b[0m\u001b[0mat\u001b[0m\u001b[0;34m[\u001b[0m\u001b[0mi\u001b[0m\u001b[0;34m,\u001b[0m\u001b[0;34m'gene_by_strand'\u001b[0m\u001b[0;34m]\u001b[0m\u001b[0;34m=\u001b[0m\u001b[0mgene_name\u001b[0m\u001b[0;34m\u001b[0m\u001b[0;34m\u001b[0m\u001b[0m\n\u001b[1;32m     11\u001b[0m \u001b[0;34m\u001b[0m\u001b[0m\n",
      "\u001b[0;32m~/miniconda3/envs/bio_sns/lib/python3.7/site-packages/pyensembl/genome.py\u001b[0m in \u001b[0;36mgene_names_at_locus\u001b[0;34m(self, contig, position, end, strand)\u001b[0m\n\u001b[1;32m    548\u001b[0m             \u001b[0mposition\u001b[0m\u001b[0;34m=\u001b[0m\u001b[0mposition\u001b[0m\u001b[0;34m,\u001b[0m\u001b[0;34m\u001b[0m\u001b[0;34m\u001b[0m\u001b[0m\n\u001b[1;32m    549\u001b[0m             \u001b[0mend\u001b[0m\u001b[0;34m=\u001b[0m\u001b[0mend\u001b[0m\u001b[0;34m,\u001b[0m\u001b[0;34m\u001b[0m\u001b[0;34m\u001b[0m\u001b[0m\n\u001b[0;32m--> 550\u001b[0;31m             strand=strand)\n\u001b[0m\u001b[1;32m    551\u001b[0m \u001b[0;34m\u001b[0m\u001b[0m\n\u001b[1;32m    552\u001b[0m     \u001b[0;32mdef\u001b[0m \u001b[0mexon_ids_at_locus\u001b[0m\u001b[0;34m(\u001b[0m\u001b[0mself\u001b[0m\u001b[0;34m,\u001b[0m \u001b[0mcontig\u001b[0m\u001b[0;34m,\u001b[0m \u001b[0mposition\u001b[0m\u001b[0;34m,\u001b[0m \u001b[0mend\u001b[0m\u001b[0;34m=\u001b[0m\u001b[0;32mNone\u001b[0m\u001b[0;34m,\u001b[0m \u001b[0mstrand\u001b[0m\u001b[0;34m=\u001b[0m\u001b[0;32mNone\u001b[0m\u001b[0;34m)\u001b[0m\u001b[0;34m:\u001b[0m\u001b[0;34m\u001b[0m\u001b[0;34m\u001b[0m\u001b[0m\n",
      "\u001b[0;32m~/miniconda3/envs/bio_sns/lib/python3.7/site-packages/pyensembl/database.py\u001b[0m in \u001b[0;36mdistinct_column_values_at_locus\u001b[0;34m(self, column, feature, contig, position, end, strand)\u001b[0m\n\u001b[1;32m    406\u001b[0m             \u001b[0mstrand\u001b[0m\u001b[0;34m=\u001b[0m\u001b[0mstrand\u001b[0m\u001b[0;34m,\u001b[0m\u001b[0;34m\u001b[0m\u001b[0;34m\u001b[0m\u001b[0m\n\u001b[1;32m    407\u001b[0m             \u001b[0mdistinct\u001b[0m\u001b[0;34m=\u001b[0m\u001b[0;32mTrue\u001b[0m\u001b[0;34m,\u001b[0m\u001b[0;34m\u001b[0m\u001b[0;34m\u001b[0m\u001b[0m\n\u001b[0;32m--> 408\u001b[0;31m             sorted=True)\n\u001b[0m\u001b[1;32m    409\u001b[0m \u001b[0;34m\u001b[0m\u001b[0m\n\u001b[1;32m    410\u001b[0m     \u001b[0;32mdef\u001b[0m \u001b[0mrun_sql_query\u001b[0m\u001b[0;34m(\u001b[0m\u001b[0mself\u001b[0m\u001b[0;34m,\u001b[0m \u001b[0msql\u001b[0m\u001b[0;34m,\u001b[0m \u001b[0mrequired\u001b[0m\u001b[0;34m=\u001b[0m\u001b[0;32mFalse\u001b[0m\u001b[0;34m,\u001b[0m \u001b[0mquery_params\u001b[0m\u001b[0;34m=\u001b[0m\u001b[0;34m[\u001b[0m\u001b[0;34m]\u001b[0m\u001b[0;34m)\u001b[0m\u001b[0;34m:\u001b[0m\u001b[0;34m\u001b[0m\u001b[0;34m\u001b[0m\u001b[0m\n",
      "\u001b[0;32m~/miniconda3/envs/bio_sns/lib/python3.7/site-packages/pyensembl/database.py\u001b[0m in \u001b[0;36mcolumn_values_at_locus\u001b[0;34m(self, column_name, feature, contig, position, end, strand, distinct, sorted)\u001b[0m\n\u001b[1;32m    354\u001b[0m             \u001b[0mquery_params\u001b[0m\u001b[0;34m.\u001b[0m\u001b[0mappend\u001b[0m\u001b[0;34m(\u001b[0m\u001b[0mstrand\u001b[0m\u001b[0;34m)\u001b[0m\u001b[0;34m\u001b[0m\u001b[0;34m\u001b[0m\u001b[0m\n\u001b[1;32m    355\u001b[0m \u001b[0;34m\u001b[0m\u001b[0m\n\u001b[0;32m--> 356\u001b[0;31m         \u001b[0mtuples\u001b[0m \u001b[0;34m=\u001b[0m \u001b[0mself\u001b[0m\u001b[0;34m.\u001b[0m\u001b[0mconnection\u001b[0m\u001b[0;34m.\u001b[0m\u001b[0mexecute\u001b[0m\u001b[0;34m(\u001b[0m\u001b[0mquery\u001b[0m\u001b[0;34m,\u001b[0m \u001b[0mquery_params\u001b[0m\u001b[0;34m)\u001b[0m\u001b[0;34m.\u001b[0m\u001b[0mfetchall\u001b[0m\u001b[0;34m(\u001b[0m\u001b[0;34m)\u001b[0m\u001b[0;34m\u001b[0m\u001b[0;34m\u001b[0m\u001b[0m\n\u001b[0m\u001b[1;32m    357\u001b[0m \u001b[0;34m\u001b[0m\u001b[0m\n\u001b[1;32m    358\u001b[0m         \u001b[0;31m# each result is a tuple, so pull out its first element\u001b[0m\u001b[0;34m\u001b[0m\u001b[0;34m\u001b[0m\u001b[0;34m\u001b[0m\u001b[0m\n",
      "\u001b[0;31mInterfaceError\u001b[0m: Error binding parameter 3 - probably unsupported type."
     ]
    }
   ],
   "source": [
    "table_altss=table_altss.reset_index(drop=True)\n",
    "table_altss[\"gene_by_strand\"]= pd.NaT\n",
    "for i,j in zip(table_altss[\"junction\"].index,table_altss[\"junction\"]):\n",
    "    j=j.split(':')\n",
    "    chr=j[0].replace('chr','')\n",
    "    start=int(j[1])\n",
    "    end=int(j[2])\n",
    "    strand=table_altss[\"strand\"].iloc[i]\n",
    "    gene_name = data.gene_names_at_locus(contig=chr, position=start,end=end,strand=strand)\n",
    "    table_altss.at[i,'gene_by_strand']=gene_name\n",
    "    "
   ]
  },
  {
   "cell_type": "code",
   "execution_count": 71,
   "metadata": {},
   "outputs": [
    {
     "data": {
      "text/plain": [
       "0          GCC2\n",
       "1     [CCDC88B]\n",
       "2      [CEP135]\n",
       "3        [GSAP]\n",
       "4      [MAP3K7]\n",
       "5        [DLG1]\n",
       "6      [INPPL1]\n",
       "7       [CASD1]\n",
       "8        [CD72]\n",
       "11      [ENOX2]\n",
       "13     [ZNF737]\n",
       "Name: gene_by_strand, dtype: object"
      ]
     },
     "execution_count": 71,
     "metadata": {},
     "output_type": "execute_result"
    }
   ],
   "source": [
    "table_altss.loc[table_altss[\"deltapsi\"]>=0.3, \"gene_by_strand\"]"
   ]
  },
  {
   "cell_type": "code",
   "execution_count": 45,
   "metadata": {},
   "outputs": [],
   "source": [
    "table_altss=table_altss.reset_index(drop=True)\n",
    "table_altss[\"gene_by_strand\"]= pd.NaT\n",
    "for i,j in zip(table_altss[\"junction\"].index,table_altss[\"junction\"]):\n",
    "    j=j.split(':')\n",
    "    chr=j[0].replace('chr','')\n",
    "    start=int(j[1])\n",
    "    end=int(j[2])\n",
    "    strand=table_altss[\"strand\"].iloc[i]\n",
    "    gene_name = data.gene_names_at_locus(contig=chr, position=start,end=end,strand=strand)\n",
    "    table_altss.at[i,'gene_by_strand']=gene_name\n",
    "    "
   ]
  },
  {
   "cell_type": "code",
   "execution_count": 46,
   "metadata": {},
   "outputs": [],
   "source": [
    "table_altss.drop(columns=\"gene_name\",inplace=True)"
   ]
  },
  {
   "cell_type": "code",
   "execution_count": 47,
   "metadata": {},
   "outputs": [],
   "source": [
    "# frameshift #\n",
    "table_altss['frameshift']=pd.NaT\n",
    "table_altss['length_junction']=pd.NaT\n",
    "for junc in table_altss.junction:\n",
    "    junction=junc.split(':')\n",
    "    start=int(junction[1])\n",
    "    end=int(junction[2])\n",
    "    size=end-start\n",
    "    if size%3==0:\n",
    "        table_altss.loc[table_altss.junction==junc,'frameshift']=\"0\"\n",
    "    else:\n",
    "        table_altss.loc[table_altss.junction==junc,'frameshift']=\"1\"\n",
    "    table_altss.loc[table_altss.junction==junc,'length_junction']=size\n",
    "table_altss['frameshift'].value_counts()\n",
    "# table of no frameshift events #\n",
    "no_frameshift=table_altss[table_altss[\"frameshift\"].str.contains(\"0\")]"
   ]
  },
  {
   "cell_type": "code",
   "execution_count": 48,
   "metadata": {},
   "outputs": [],
   "source": [
    "# essential gene #\n",
    "# gene_dep=pd.read_csv(\"/home/ls/rachelcw/projects/CRISPR_gene_dependency.csv\")\n",
    "essential_gene=pd.read_csv(\"/home/ls/rachelcw/projects/CRISPRInferredCommonEssentials.csv\")\n",
    "pattern=re.compile(\"\\\\(*\\d*\\\\)\")\n",
    "essential_gene[\"Essentials\"]=essential_gene[\"Essentials\"].str.replace(pattern,'')\n",
    "essential_gene[\"Essentials\"]=essential_gene[\"Essentials\"].str.replace(\" \",'')\n",
    "essential_gene_list=essential_gene[\"Essentials\"].to_list()"
   ]
  },
  {
   "cell_type": "code",
   "execution_count": 52,
   "metadata": {},
   "outputs": [
    {
     "name": "stderr",
     "output_type": "stream",
     "text": [
      "/home/ls/rachelcw/miniconda3/envs/bio_sns/lib/python3.7/site-packages/ipykernel_launcher.py:1: SettingWithCopyWarning: \n",
      "A value is trying to be set on a copy of a slice from a DataFrame.\n",
      "Try using .loc[row_indexer,col_indexer] = value instead\n",
      "\n",
      "See the caveats in the documentation: https://pandas.pydata.org/pandas-docs/stable/user_guide/indexing.html#returning-a-view-versus-a-copy\n",
      "  \"\"\"Entry point for launching an IPython kernel.\n",
      "/home/ls/rachelcw/miniconda3/envs/bio_sns/lib/python3.7/site-packages/pandas/core/indexing.py:1817: SettingWithCopyWarning: \n",
      "A value is trying to be set on a copy of a slice from a DataFrame.\n",
      "Try using .loc[row_indexer,col_indexer] = value instead\n",
      "\n",
      "See the caveats in the documentation: https://pandas.pydata.org/pandas-docs/stable/user_guide/indexing.html#returning-a-view-versus-a-copy\n",
      "  self._setitem_single_column(loc, value, pi)\n"
     ]
    }
   ],
   "source": [
    "no_frameshift[\"essential\"]=pd.NaT\n",
    "for i,gene in zip(no_frameshift[\"gene_by_strand\"].index,no_frameshift[\"gene_by_strand\"]):\n",
    "    esn=\"\"\n",
    "    if len(gene)>1:\n",
    "        no_frameshift.loc[i,\"essential\"]=\"check\"\n",
    "    else:\n",
    "        \n",
    "        if gene[0] in essential_gene_list:\n",
    "            no_frameshift.loc[i,\"essential\"]=\"1\"\n",
    "        else:\n",
    "            no_frameshift.loc[i,\"essential\"]=\"0\""
   ]
  },
  {
   "cell_type": "code",
   "execution_count": 53,
   "metadata": {},
   "outputs": [
    {
     "data": {
      "text/plain": [
       "[Text(0, 0, '32'), Text(0, 0, '717'), Text(0, 0, '139')]"
      ]
     },
     "execution_count": 53,
     "metadata": {},
     "output_type": "execute_result"
    },
    {
     "data": {
      "image/png": "[encoded data removed]",
      "text/plain": [
       "<Figure size 432x288 with 1 Axes>"
      ]
     },
     "metadata": {
      "needs_background": "light"
     },
     "output_type": "display_data"
    }
   ],
   "source": [
    "ax=sns.histplot(data=no_frameshift, x='essential')\n",
    "ax.bar_label(ax.containers[0])"
   ]
  },
  {
   "cell_type": "code",
   "execution_count": 54,
   "metadata": {},
   "outputs": [],
   "source": [
    "essential_no_frameshift=no_frameshift[no_frameshift[\"essential\"].str.contains(\"1\")]\n"
   ]
  }
 ],
 "metadata": {
  "kernelspec": {
   "display_name": "bio_sns",
   "language": "python",
   "name": "python3"
  },
  "language_info": {
   "codemirror_mode": {
    "name": "ipython",
    "version": 3
   },
   "file_extension": ".py",
   "mimetype": "text/x-python",
   "name": "python",
   "nbconvert_exporter": "python",
   "pygments_lexer": "ipython3",
   "version": "3.7.12"
  },
  "orig_nbformat": 4,
  "vscode": {
   "interpreter": {
    "hash": "09c864c3accc55c172f1ccd7cebbbda7e215cf87239813b034d31565a8f44a22"
   }
  }
 },
 "nbformat": 4,
 "nbformat_minor": 2
}
